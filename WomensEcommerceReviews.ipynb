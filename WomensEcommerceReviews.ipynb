{
 "cells": [
  {
   "cell_type": "markdown",
   "id": "65304e73",
   "metadata": {},
   "source": [
    "# Women's Clothing E-Commerce Reviews\n",
    "\n",
    "Written on the 29th of august, 2022. <br>\n",
    "Edgardo Kennedy\n",
    "\n",
    "\n",
    "This project consists of some exploratory data analysis followed by the training of some natural language processing models. We approach this with two objectives. First, we try to predict if a review left on an item's page will be influential on other customers from its title and text. Second, we train a model to predict whether a reviewer will, in the end, recommend the item they purchased. <br>\n",
    "\n",
    "Predicting a review's influence would be valuable to any retailer, because they could float possibly useful reviews to the top of an item's page to create a better user experience without waiting for that review to get the necessary engagement to reach that spot. It would also provide insight as to what types of issues actually cause people to reconsider their purchase so they can be addressed. Finally, a more sly application of a model of this nature would be to hide potentially influential negative reviews, or highlight influential postive reviews. <br>\n",
    "\n",
    "Determining if a review recommends the item or not is easier to do than predicting influence. On this dataset, users were required to chose whether or not they recommend the item they bought so the retailer would have that information anyways. This doesn't mean that training this model is useless, but rather it can help as a possible filter. In particular, it would be interesting to see where the model gets its predictions wrong. A wrong prediction would happen on a review that says positive things about the item but ultimately doesn't recommend others buy it or, on the flipside, says negative things about the item but recommends it anyways. This behavior indicates that the reviewer is acting in good faith and possibly has some constructive criticism that the company can use to improve their products. This way, a large retailer could wade through thousands of reviews and only keep those that provide valuable insight, saving time and effort. <br>\n",
    "\n",
    "On top of these constructive reviews being useful to the retailer, they would also prove useful to the customers, as they would most likely contain commentary on the nature of the product and its quality. This way the company could provide a better user experience by floating these reviews to the top as well.\n",
    "\n",
    "This dataset has the next information:\n",
    "- __Clothing ID__: Refers to the ID of the specific item of clothing being reviewed\n",
    "- __Age__: Age of the person posting the review\n",
    "- __Title__: Title of the review, if there is one\n",
    "- __Review Text__: Text of the review\n",
    "- __Rating__: Ratings on a 1-to-5 scale\n",
    "- __Recommended IND__: Binary value on whether they recommend the item\n",
    "- __Positive Feedback Count__: Count of how many users found the review 'positive'* \n",
    "- __Division Name__: Refers to whether the item is general, general petite or intimates\n",
    "- __Department Name__: Refers to the item type more specifically: tops, bottoms, dresses, etc.\n",
    "- __Class Name__: Refers to even more specific classifications: Blouses, Sweaters, Jackets, etc.\n",
    "\n",
    "\n",
    "*The source of this dataset doesn't actually explain what Positive Feedback Count would be, so we are working under the assumption that this represents how many 'Likes' a review gets, but really we're just guessing\n",
    "\n",
    "Dataset source: https://www.kaggle.com/datasets/nicapotato/womens-ecommerce-clothing-reviews <br>\n",
    "(Accessed on the 29th of august, 2022) <br>\n",
    "\n",
    "\n",
    "This project consists of the following:\n",
    "\n",
    "- First we retrieve our data and clean it\n",
    "    - Luckily, not much cleaning is actually required \n",
    "- Then we do some exploratory data analysis to see if we can gleen anything about our data. This includes:\n",
    "    - Studying the age of our users\n",
    "    - Studying how long reviews are, in characters\n",
    "    - Studying how long review titles are, in characters\n",
    "    - Trying to determine if there is a relationship between title/review length and rating\n",
    "- Next we try to determine if reviews are 'Impactful' or not from their Positive Feedback Count\n",
    "- Moving from this data analysis, we train 4 different Natural Language Processing models:\n",
    "    - A model that tries to predict if a review is impactful from its title\n",
    "    - A model that tries to predict if a review recommends the item they purchased from its title\n",
    "    - A model that tries to predict if a review is impactful from its review text\n",
    "    - A model that tries to predict if a review recommends the item they purchased from its review text\n",
    "   \n",
    "In this Jupyter Notebook you can find not only all the code and the visualizations generated, but also a general step by step explanation of the logic used throughout and the conclusions we can come to from the results of the project. With that being said, here is a summarized list of the results achieved and the conclusions we can reach from them:\n",
    "\n",
    "- Although we already knew this store caters to women, it seems that the demographic is primarily middle aged.\n",
    "- Most reviews have very short or no title at all while the actual body of the review tends to be incredibly long\n",
    "- Review title and text length seem to have a correlation to the rating a customer leaves. It seems that the longer a review is, the less likely it is to be a 5 star rating\n",
    "- A vast majority of reviews have no Positive Feedback Count, which would mean that most reviews either go unread or simply don't provide any useful commentary.\n",
    "    - We have no way of knowing which of these is correct, and this will prove to be a big problem. More information is needed\n",
    "- On the results of the training of forecasting models:\n",
    "    - There simply isn't enough information to reliably predict whether a review will have an impact on the viewer or not. Adding another variable like a review's view counter would help a lot and actually make this possible.\n",
    "    - Using a forecasting model for filtering reviews to gather those with constructive criticism or useful information seems to be a success, as we were able to collect reviews that actually comment on why a piece should not be bought or things a customer should look out for like strange cuts, poor fabric quality or the item not looking like the picture on the website\n",
    "    \n"
   ]
  },
  {
   "cell_type": "markdown",
   "id": "ab5c1a0e",
   "metadata": {},
   "source": [
    "## Data Retrieval and Cleaning"
   ]
  },
  {
   "cell_type": "code",
   "execution_count": 1,
   "id": "805ec3aa",
   "metadata": {},
   "outputs": [],
   "source": [
    "import numpy as np\n",
    "import pandas as pd\n",
    "import matplotlib.pyplot as plt\n",
    "import seaborn as sns"
   ]
  },
  {
   "cell_type": "code",
   "execution_count": 2,
   "id": "856d3c8a",
   "metadata": {},
   "outputs": [
    {
     "data": {
      "text/html": [
       "<div>\n",
       "<style scoped>\n",
       "    .dataframe tbody tr th:only-of-type {\n",
       "        vertical-align: middle;\n",
       "    }\n",
       "\n",
       "    .dataframe tbody tr th {\n",
       "        vertical-align: top;\n",
       "    }\n",
       "\n",
       "    .dataframe thead th {\n",
       "        text-align: right;\n",
       "    }\n",
       "</style>\n",
       "<table border=\"1\" class=\"dataframe\">\n",
       "  <thead>\n",
       "    <tr style=\"text-align: right;\">\n",
       "      <th></th>\n",
       "      <th>Clothing ID</th>\n",
       "      <th>Age</th>\n",
       "      <th>Title</th>\n",
       "      <th>Review Text</th>\n",
       "      <th>Rating</th>\n",
       "      <th>Recommended IND</th>\n",
       "      <th>Positive Feedback Count</th>\n",
       "      <th>Division Name</th>\n",
       "      <th>Department Name</th>\n",
       "      <th>Class Name</th>\n",
       "    </tr>\n",
       "  </thead>\n",
       "  <tbody>\n",
       "    <tr>\n",
       "      <th>0</th>\n",
       "      <td>767</td>\n",
       "      <td>33</td>\n",
       "      <td>NaN</td>\n",
       "      <td>Absolutely wonderful - silky and sexy and comf...</td>\n",
       "      <td>4</td>\n",
       "      <td>1</td>\n",
       "      <td>0</td>\n",
       "      <td>Initmates</td>\n",
       "      <td>Intimate</td>\n",
       "      <td>Intimates</td>\n",
       "    </tr>\n",
       "    <tr>\n",
       "      <th>1</th>\n",
       "      <td>1080</td>\n",
       "      <td>34</td>\n",
       "      <td>NaN</td>\n",
       "      <td>Love this dress!  it's sooo pretty.  i happene...</td>\n",
       "      <td>5</td>\n",
       "      <td>1</td>\n",
       "      <td>4</td>\n",
       "      <td>General</td>\n",
       "      <td>Dresses</td>\n",
       "      <td>Dresses</td>\n",
       "    </tr>\n",
       "    <tr>\n",
       "      <th>2</th>\n",
       "      <td>1077</td>\n",
       "      <td>60</td>\n",
       "      <td>Some major design flaws</td>\n",
       "      <td>I had such high hopes for this dress and reall...</td>\n",
       "      <td>3</td>\n",
       "      <td>0</td>\n",
       "      <td>0</td>\n",
       "      <td>General</td>\n",
       "      <td>Dresses</td>\n",
       "      <td>Dresses</td>\n",
       "    </tr>\n",
       "    <tr>\n",
       "      <th>3</th>\n",
       "      <td>1049</td>\n",
       "      <td>50</td>\n",
       "      <td>My favorite buy!</td>\n",
       "      <td>I love, love, love this jumpsuit. it's fun, fl...</td>\n",
       "      <td>5</td>\n",
       "      <td>1</td>\n",
       "      <td>0</td>\n",
       "      <td>General Petite</td>\n",
       "      <td>Bottoms</td>\n",
       "      <td>Pants</td>\n",
       "    </tr>\n",
       "    <tr>\n",
       "      <th>4</th>\n",
       "      <td>847</td>\n",
       "      <td>47</td>\n",
       "      <td>Flattering shirt</td>\n",
       "      <td>This shirt is very flattering to all due to th...</td>\n",
       "      <td>5</td>\n",
       "      <td>1</td>\n",
       "      <td>6</td>\n",
       "      <td>General</td>\n",
       "      <td>Tops</td>\n",
       "      <td>Blouses</td>\n",
       "    </tr>\n",
       "  </tbody>\n",
       "</table>\n",
       "</div>"
      ],
      "text/plain": [
       "   Clothing ID  Age                    Title  \\\n",
       "0          767   33                      NaN   \n",
       "1         1080   34                      NaN   \n",
       "2         1077   60  Some major design flaws   \n",
       "3         1049   50         My favorite buy!   \n",
       "4          847   47         Flattering shirt   \n",
       "\n",
       "                                         Review Text  Rating  Recommended IND  \\\n",
       "0  Absolutely wonderful - silky and sexy and comf...       4                1   \n",
       "1  Love this dress!  it's sooo pretty.  i happene...       5                1   \n",
       "2  I had such high hopes for this dress and reall...       3                0   \n",
       "3  I love, love, love this jumpsuit. it's fun, fl...       5                1   \n",
       "4  This shirt is very flattering to all due to th...       5                1   \n",
       "\n",
       "   Positive Feedback Count   Division Name Department Name Class Name  \n",
       "0                        0       Initmates        Intimate  Intimates  \n",
       "1                        4         General         Dresses    Dresses  \n",
       "2                        0         General         Dresses    Dresses  \n",
       "3                        0  General Petite         Bottoms      Pants  \n",
       "4                        6         General            Tops    Blouses  "
      ]
     },
     "execution_count": 2,
     "metadata": {},
     "output_type": "execute_result"
    }
   ],
   "source": [
    "#We read the dataset.\n",
    "reviews_df = pd.read_csv('Womens_Clothing_E-Commerce_Reviews.csv', index_col = 0)\n",
    "reviews_df.head()"
   ]
  },
  {
   "cell_type": "markdown",
   "id": "285f3f61",
   "metadata": {},
   "source": [
    "Right on the first entry of the dataset we can see a missing value. We can find out more ahead."
   ]
  },
  {
   "cell_type": "code",
   "execution_count": 3,
   "id": "c09d8515",
   "metadata": {},
   "outputs": [
    {
     "name": "stdout",
     "output_type": "stream",
     "text": [
      "<class 'pandas.core.frame.DataFrame'>\n",
      "Int64Index: 23486 entries, 0 to 23485\n",
      "Data columns (total 10 columns):\n",
      " #   Column                   Non-Null Count  Dtype \n",
      "---  ------                   --------------  ----- \n",
      " 0   Clothing ID              23486 non-null  int64 \n",
      " 1   Age                      23486 non-null  int64 \n",
      " 2   Title                    19676 non-null  object\n",
      " 3   Review Text              22641 non-null  object\n",
      " 4   Rating                   23486 non-null  int64 \n",
      " 5   Recommended IND          23486 non-null  int64 \n",
      " 6   Positive Feedback Count  23486 non-null  int64 \n",
      " 7   Division Name            23472 non-null  object\n",
      " 8   Department Name          23472 non-null  object\n",
      " 9   Class Name               23472 non-null  object\n",
      "dtypes: int64(5), object(5)\n",
      "memory usage: 2.0+ MB\n"
     ]
    }
   ],
   "source": [
    "reviews_df.info()"
   ]
  },
  {
   "cell_type": "markdown",
   "id": "18eac658",
   "metadata": {},
   "source": [
    "We are missing a fair amount of review texts and even more titles. We also happen to be missing some Division, Department and Class names, but very few. Before we engage in any exploratory data analysis, we will fill these null values in and add a couple more columns."
   ]
  },
  {
   "cell_type": "markdown",
   "id": "79c30c3c",
   "metadata": {},
   "source": [
    "First we fill the missing spots for the Title and Review Text columns with empty strings. These empty spots don't represent a missing value so much as they represent a customer that didn't feel compelled to leave a written review after receiving their item. <br>\n",
    "\n",
    "These empty strings will allow us to work with these columns more easily without fundamentally changing the data."
   ]
  },
  {
   "cell_type": "code",
   "execution_count": 4,
   "id": "7f01cb6b",
   "metadata": {},
   "outputs": [],
   "source": [
    "reviews_df['Title'].fillna(value = '', inplace = True)\n",
    "reviews_df['Review Text'].fillna(value = '', inplace = True)"
   ]
  },
  {
   "cell_type": "markdown",
   "id": "e7820336",
   "metadata": {},
   "source": [
    "Now we will add two more columns. One for the length of the Title in characters and one for the length of the Review Text in characters."
   ]
  },
  {
   "cell_type": "code",
   "execution_count": 5,
   "id": "d43030e7",
   "metadata": {},
   "outputs": [],
   "source": [
    "reviews_df['Title Length'] = reviews_df['Title'].apply(len)\n",
    "reviews_df['Review Length'] = reviews_df['Review Text'].apply(len)"
   ]
  },
  {
   "cell_type": "markdown",
   "id": "354c3a53",
   "metadata": {},
   "source": [
    "A new look at the head of our dataset:"
   ]
  },
  {
   "cell_type": "code",
   "execution_count": 6,
   "id": "d3178669",
   "metadata": {},
   "outputs": [
    {
     "data": {
      "text/html": [
       "<div>\n",
       "<style scoped>\n",
       "    .dataframe tbody tr th:only-of-type {\n",
       "        vertical-align: middle;\n",
       "    }\n",
       "\n",
       "    .dataframe tbody tr th {\n",
       "        vertical-align: top;\n",
       "    }\n",
       "\n",
       "    .dataframe thead th {\n",
       "        text-align: right;\n",
       "    }\n",
       "</style>\n",
       "<table border=\"1\" class=\"dataframe\">\n",
       "  <thead>\n",
       "    <tr style=\"text-align: right;\">\n",
       "      <th></th>\n",
       "      <th>Clothing ID</th>\n",
       "      <th>Age</th>\n",
       "      <th>Title</th>\n",
       "      <th>Review Text</th>\n",
       "      <th>Rating</th>\n",
       "      <th>Recommended IND</th>\n",
       "      <th>Positive Feedback Count</th>\n",
       "      <th>Division Name</th>\n",
       "      <th>Department Name</th>\n",
       "      <th>Class Name</th>\n",
       "      <th>Title Length</th>\n",
       "      <th>Review Length</th>\n",
       "    </tr>\n",
       "  </thead>\n",
       "  <tbody>\n",
       "    <tr>\n",
       "      <th>0</th>\n",
       "      <td>767</td>\n",
       "      <td>33</td>\n",
       "      <td></td>\n",
       "      <td>Absolutely wonderful - silky and sexy and comf...</td>\n",
       "      <td>4</td>\n",
       "      <td>1</td>\n",
       "      <td>0</td>\n",
       "      <td>Initmates</td>\n",
       "      <td>Intimate</td>\n",
       "      <td>Intimates</td>\n",
       "      <td>0</td>\n",
       "      <td>53</td>\n",
       "    </tr>\n",
       "    <tr>\n",
       "      <th>1</th>\n",
       "      <td>1080</td>\n",
       "      <td>34</td>\n",
       "      <td></td>\n",
       "      <td>Love this dress!  it's sooo pretty.  i happene...</td>\n",
       "      <td>5</td>\n",
       "      <td>1</td>\n",
       "      <td>4</td>\n",
       "      <td>General</td>\n",
       "      <td>Dresses</td>\n",
       "      <td>Dresses</td>\n",
       "      <td>0</td>\n",
       "      <td>303</td>\n",
       "    </tr>\n",
       "    <tr>\n",
       "      <th>2</th>\n",
       "      <td>1077</td>\n",
       "      <td>60</td>\n",
       "      <td>Some major design flaws</td>\n",
       "      <td>I had such high hopes for this dress and reall...</td>\n",
       "      <td>3</td>\n",
       "      <td>0</td>\n",
       "      <td>0</td>\n",
       "      <td>General</td>\n",
       "      <td>Dresses</td>\n",
       "      <td>Dresses</td>\n",
       "      <td>23</td>\n",
       "      <td>500</td>\n",
       "    </tr>\n",
       "    <tr>\n",
       "      <th>3</th>\n",
       "      <td>1049</td>\n",
       "      <td>50</td>\n",
       "      <td>My favorite buy!</td>\n",
       "      <td>I love, love, love this jumpsuit. it's fun, fl...</td>\n",
       "      <td>5</td>\n",
       "      <td>1</td>\n",
       "      <td>0</td>\n",
       "      <td>General Petite</td>\n",
       "      <td>Bottoms</td>\n",
       "      <td>Pants</td>\n",
       "      <td>16</td>\n",
       "      <td>124</td>\n",
       "    </tr>\n",
       "    <tr>\n",
       "      <th>4</th>\n",
       "      <td>847</td>\n",
       "      <td>47</td>\n",
       "      <td>Flattering shirt</td>\n",
       "      <td>This shirt is very flattering to all due to th...</td>\n",
       "      <td>5</td>\n",
       "      <td>1</td>\n",
       "      <td>6</td>\n",
       "      <td>General</td>\n",
       "      <td>Tops</td>\n",
       "      <td>Blouses</td>\n",
       "      <td>16</td>\n",
       "      <td>192</td>\n",
       "    </tr>\n",
       "  </tbody>\n",
       "</table>\n",
       "</div>"
      ],
      "text/plain": [
       "   Clothing ID  Age                    Title  \\\n",
       "0          767   33                            \n",
       "1         1080   34                            \n",
       "2         1077   60  Some major design flaws   \n",
       "3         1049   50         My favorite buy!   \n",
       "4          847   47         Flattering shirt   \n",
       "\n",
       "                                         Review Text  Rating  Recommended IND  \\\n",
       "0  Absolutely wonderful - silky and sexy and comf...       4                1   \n",
       "1  Love this dress!  it's sooo pretty.  i happene...       5                1   \n",
       "2  I had such high hopes for this dress and reall...       3                0   \n",
       "3  I love, love, love this jumpsuit. it's fun, fl...       5                1   \n",
       "4  This shirt is very flattering to all due to th...       5                1   \n",
       "\n",
       "   Positive Feedback Count   Division Name Department Name Class Name  \\\n",
       "0                        0       Initmates        Intimate  Intimates   \n",
       "1                        4         General         Dresses    Dresses   \n",
       "2                        0         General         Dresses    Dresses   \n",
       "3                        0  General Petite         Bottoms      Pants   \n",
       "4                        6         General            Tops    Blouses   \n",
       "\n",
       "   Title Length  Review Length  \n",
       "0             0             53  \n",
       "1             0            303  \n",
       "2            23            500  \n",
       "3            16            124  \n",
       "4            16            192  "
      ]
     },
     "execution_count": 6,
     "metadata": {},
     "output_type": "execute_result"
    }
   ],
   "source": [
    "reviews_df.head()"
   ]
  },
  {
   "cell_type": "markdown",
   "id": "3a34199d",
   "metadata": {},
   "source": [
    "Now, looking at the Division Names we notice that we have 3 divisions, with one of them misspelled as 'Initmates':"
   ]
  },
  {
   "cell_type": "code",
   "execution_count": 7,
   "id": "d1d1f636",
   "metadata": {},
   "outputs": [
    {
     "name": "stdout",
     "output_type": "stream",
     "text": [
      "['Initmates' 'General' 'General Petite' nan]\n"
     ]
    }
   ],
   "source": [
    "print(reviews_df['Division Name'].unique())"
   ]
  },
  {
   "cell_type": "markdown",
   "id": "4c4ad4c2",
   "metadata": {},
   "source": [
    "This typo is easily fixed:"
   ]
  },
  {
   "cell_type": "code",
   "execution_count": 8,
   "id": "9f605cb7",
   "metadata": {},
   "outputs": [],
   "source": [
    "reviews_df.loc[reviews_df['Division Name'] == 'Initmates', 'Division Name'] = 'Intimates'"
   ]
  },
  {
   "cell_type": "markdown",
   "id": "e2332a20",
   "metadata": {},
   "source": [
    "In the Department Names we have 6 types:"
   ]
  },
  {
   "cell_type": "code",
   "execution_count": 9,
   "id": "4fd94df8",
   "metadata": {},
   "outputs": [
    {
     "name": "stdout",
     "output_type": "stream",
     "text": [
      "['Intimate' 'Dresses' 'Bottoms' 'Tops' 'Jackets' 'Trend' nan]\n"
     ]
    }
   ],
   "source": [
    "print(reviews_df['Department Name'].unique())"
   ]
  },
  {
   "cell_type": "markdown",
   "id": "4901c26e",
   "metadata": {},
   "source": [
    "And in the Class Names we have 20 types:"
   ]
  },
  {
   "cell_type": "code",
   "execution_count": 10,
   "id": "ae6e99f4",
   "metadata": {},
   "outputs": [
    {
     "name": "stdout",
     "output_type": "stream",
     "text": [
      "['Intimates' 'Dresses' 'Pants' 'Blouses' 'Knits' 'Outerwear' 'Lounge'\n",
      " 'Sweaters' 'Skirts' 'Fine gauge' 'Sleep' 'Jackets' 'Swim' 'Trend' 'Jeans'\n",
      " 'Legwear' 'Shorts' 'Layering' 'Casual bottoms' nan 'Chemises']\n"
     ]
    }
   ],
   "source": [
    "print(reviews_df['Class Name'].unique())"
   ]
  },
  {
   "cell_type": "markdown",
   "id": "96080538",
   "metadata": {},
   "source": [
    "Now that we know the Division, Department and Class names are fine, we can check the items that don't have values in these columns:"
   ]
  },
  {
   "cell_type": "code",
   "execution_count": 11,
   "id": "af030445",
   "metadata": {},
   "outputs": [
    {
     "data": {
      "text/html": [
       "<div>\n",
       "<style scoped>\n",
       "    .dataframe tbody tr th:only-of-type {\n",
       "        vertical-align: middle;\n",
       "    }\n",
       "\n",
       "    .dataframe tbody tr th {\n",
       "        vertical-align: top;\n",
       "    }\n",
       "\n",
       "    .dataframe thead th {\n",
       "        text-align: right;\n",
       "    }\n",
       "</style>\n",
       "<table border=\"1\" class=\"dataframe\">\n",
       "  <thead>\n",
       "    <tr style=\"text-align: right;\">\n",
       "      <th></th>\n",
       "      <th>Clothing ID</th>\n",
       "      <th>Age</th>\n",
       "      <th>Title</th>\n",
       "      <th>Review Text</th>\n",
       "      <th>Rating</th>\n",
       "      <th>Recommended IND</th>\n",
       "      <th>Positive Feedback Count</th>\n",
       "      <th>Division Name</th>\n",
       "      <th>Department Name</th>\n",
       "      <th>Class Name</th>\n",
       "      <th>Title Length</th>\n",
       "      <th>Review Length</th>\n",
       "    </tr>\n",
       "  </thead>\n",
       "  <tbody>\n",
       "    <tr>\n",
       "      <th>9444</th>\n",
       "      <td>72</td>\n",
       "      <td>25</td>\n",
       "      <td>My favorite socks!!!</td>\n",
       "      <td>I never write reviews, but these socks are so ...</td>\n",
       "      <td>5</td>\n",
       "      <td>1</td>\n",
       "      <td>0</td>\n",
       "      <td>NaN</td>\n",
       "      <td>NaN</td>\n",
       "      <td>NaN</td>\n",
       "      <td>20</td>\n",
       "      <td>308</td>\n",
       "    </tr>\n",
       "    <tr>\n",
       "      <th>13767</th>\n",
       "      <td>492</td>\n",
       "      <td>23</td>\n",
       "      <td>So soft!</td>\n",
       "      <td>I just love this hoodie! it is so soft and com...</td>\n",
       "      <td>5</td>\n",
       "      <td>1</td>\n",
       "      <td>1</td>\n",
       "      <td>NaN</td>\n",
       "      <td>NaN</td>\n",
       "      <td>NaN</td>\n",
       "      <td>8</td>\n",
       "      <td>241</td>\n",
       "    </tr>\n",
       "    <tr>\n",
       "      <th>13768</th>\n",
       "      <td>492</td>\n",
       "      <td>49</td>\n",
       "      <td>Wardrobe staple</td>\n",
       "      <td>Love this hoodie. so soft and goes with everyt...</td>\n",
       "      <td>5</td>\n",
       "      <td>1</td>\n",
       "      <td>0</td>\n",
       "      <td>NaN</td>\n",
       "      <td>NaN</td>\n",
       "      <td>NaN</td>\n",
       "      <td>15</td>\n",
       "      <td>106</td>\n",
       "    </tr>\n",
       "    <tr>\n",
       "      <th>13787</th>\n",
       "      <td>492</td>\n",
       "      <td>48</td>\n",
       "      <td></td>\n",
       "      <td></td>\n",
       "      <td>5</td>\n",
       "      <td>1</td>\n",
       "      <td>0</td>\n",
       "      <td>NaN</td>\n",
       "      <td>NaN</td>\n",
       "      <td>NaN</td>\n",
       "      <td>0</td>\n",
       "      <td>0</td>\n",
       "    </tr>\n",
       "    <tr>\n",
       "      <th>16216</th>\n",
       "      <td>152</td>\n",
       "      <td>36</td>\n",
       "      <td>Warm and cozy</td>\n",
       "      <td>Just what i was looking for. soft, cozy and warm.</td>\n",
       "      <td>5</td>\n",
       "      <td>1</td>\n",
       "      <td>0</td>\n",
       "      <td>NaN</td>\n",
       "      <td>NaN</td>\n",
       "      <td>NaN</td>\n",
       "      <td>13</td>\n",
       "      <td>49</td>\n",
       "    </tr>\n",
       "    <tr>\n",
       "      <th>16221</th>\n",
       "      <td>152</td>\n",
       "      <td>37</td>\n",
       "      <td>Love!</td>\n",
       "      <td>I am loving these. they are quite long but are...</td>\n",
       "      <td>5</td>\n",
       "      <td>1</td>\n",
       "      <td>0</td>\n",
       "      <td>NaN</td>\n",
       "      <td>NaN</td>\n",
       "      <td>NaN</td>\n",
       "      <td>5</td>\n",
       "      <td>110</td>\n",
       "    </tr>\n",
       "    <tr>\n",
       "      <th>16223</th>\n",
       "      <td>152</td>\n",
       "      <td>39</td>\n",
       "      <td>\"long and warm\"</td>\n",
       "      <td>These leg warmers are perfect for me. they are...</td>\n",
       "      <td>5</td>\n",
       "      <td>1</td>\n",
       "      <td>0</td>\n",
       "      <td>NaN</td>\n",
       "      <td>NaN</td>\n",
       "      <td>NaN</td>\n",
       "      <td>15</td>\n",
       "      <td>162</td>\n",
       "    </tr>\n",
       "    <tr>\n",
       "      <th>18626</th>\n",
       "      <td>184</td>\n",
       "      <td>34</td>\n",
       "      <td>Nubby footless tights</td>\n",
       "      <td>These are amazing quality. i agree, size up to...</td>\n",
       "      <td>5</td>\n",
       "      <td>1</td>\n",
       "      <td>5</td>\n",
       "      <td>NaN</td>\n",
       "      <td>NaN</td>\n",
       "      <td>NaN</td>\n",
       "      <td>21</td>\n",
       "      <td>275</td>\n",
       "    </tr>\n",
       "    <tr>\n",
       "      <th>18671</th>\n",
       "      <td>184</td>\n",
       "      <td>54</td>\n",
       "      <td>New workhorse</td>\n",
       "      <td>These tights are amazing! if i care for them w...</td>\n",
       "      <td>5</td>\n",
       "      <td>1</td>\n",
       "      <td>0</td>\n",
       "      <td>NaN</td>\n",
       "      <td>NaN</td>\n",
       "      <td>NaN</td>\n",
       "      <td>13</td>\n",
       "      <td>97</td>\n",
       "    </tr>\n",
       "    <tr>\n",
       "      <th>20088</th>\n",
       "      <td>772</td>\n",
       "      <td>50</td>\n",
       "      <td>Comfy sweatshirt!</td>\n",
       "      <td>This sweatshirt is really nice!  it's oversize...</td>\n",
       "      <td>5</td>\n",
       "      <td>1</td>\n",
       "      <td>0</td>\n",
       "      <td>NaN</td>\n",
       "      <td>NaN</td>\n",
       "      <td>NaN</td>\n",
       "      <td>17</td>\n",
       "      <td>256</td>\n",
       "    </tr>\n",
       "    <tr>\n",
       "      <th>21532</th>\n",
       "      <td>665</td>\n",
       "      <td>43</td>\n",
       "      <td>So worth it!</td>\n",
       "      <td>Got these on sale...absolutely love eberjey! f...</td>\n",
       "      <td>5</td>\n",
       "      <td>1</td>\n",
       "      <td>0</td>\n",
       "      <td>NaN</td>\n",
       "      <td>NaN</td>\n",
       "      <td>NaN</td>\n",
       "      <td>12</td>\n",
       "      <td>286</td>\n",
       "    </tr>\n",
       "    <tr>\n",
       "      <th>22997</th>\n",
       "      <td>136</td>\n",
       "      <td>47</td>\n",
       "      <td>Charcoal, pale gray, a bit of silver!</td>\n",
       "      <td>These socks are soft and comfortable, and they...</td>\n",
       "      <td>5</td>\n",
       "      <td>1</td>\n",
       "      <td>1</td>\n",
       "      <td>NaN</td>\n",
       "      <td>NaN</td>\n",
       "      <td>NaN</td>\n",
       "      <td>37</td>\n",
       "      <td>221</td>\n",
       "    </tr>\n",
       "    <tr>\n",
       "      <th>23006</th>\n",
       "      <td>136</td>\n",
       "      <td>33</td>\n",
       "      <td>Cute itsy socks</td>\n",
       "      <td>Love polkadots, love sparkle. these little soc...</td>\n",
       "      <td>5</td>\n",
       "      <td>1</td>\n",
       "      <td>0</td>\n",
       "      <td>NaN</td>\n",
       "      <td>NaN</td>\n",
       "      <td>NaN</td>\n",
       "      <td>15</td>\n",
       "      <td>73</td>\n",
       "    </tr>\n",
       "    <tr>\n",
       "      <th>23011</th>\n",
       "      <td>136</td>\n",
       "      <td>36</td>\n",
       "      <td>Super socks</td>\n",
       "      <td>I love these little socks ? and the dots spark...</td>\n",
       "      <td>5</td>\n",
       "      <td>1</td>\n",
       "      <td>0</td>\n",
       "      <td>NaN</td>\n",
       "      <td>NaN</td>\n",
       "      <td>NaN</td>\n",
       "      <td>11</td>\n",
       "      <td>163</td>\n",
       "    </tr>\n",
       "  </tbody>\n",
       "</table>\n",
       "</div>"
      ],
      "text/plain": [
       "       Clothing ID  Age                                  Title  \\\n",
       "9444            72   25                   My favorite socks!!!   \n",
       "13767          492   23                               So soft!   \n",
       "13768          492   49                        Wardrobe staple   \n",
       "13787          492   48                                          \n",
       "16216          152   36                          Warm and cozy   \n",
       "16221          152   37                                  Love!   \n",
       "16223          152   39                        \"long and warm\"   \n",
       "18626          184   34                  Nubby footless tights   \n",
       "18671          184   54                          New workhorse   \n",
       "20088          772   50                      Comfy sweatshirt!   \n",
       "21532          665   43                           So worth it!   \n",
       "22997          136   47  Charcoal, pale gray, a bit of silver!   \n",
       "23006          136   33                        Cute itsy socks   \n",
       "23011          136   36                            Super socks   \n",
       "\n",
       "                                             Review Text  Rating  \\\n",
       "9444   I never write reviews, but these socks are so ...       5   \n",
       "13767  I just love this hoodie! it is so soft and com...       5   \n",
       "13768  Love this hoodie. so soft and goes with everyt...       5   \n",
       "13787                                                          5   \n",
       "16216  Just what i was looking for. soft, cozy and warm.       5   \n",
       "16221  I am loving these. they are quite long but are...       5   \n",
       "16223  These leg warmers are perfect for me. they are...       5   \n",
       "18626  These are amazing quality. i agree, size up to...       5   \n",
       "18671  These tights are amazing! if i care for them w...       5   \n",
       "20088  This sweatshirt is really nice!  it's oversize...       5   \n",
       "21532  Got these on sale...absolutely love eberjey! f...       5   \n",
       "22997  These socks are soft and comfortable, and they...       5   \n",
       "23006  Love polkadots, love sparkle. these little soc...       5   \n",
       "23011  I love these little socks ? and the dots spark...       5   \n",
       "\n",
       "       Recommended IND  Positive Feedback Count Division Name Department Name  \\\n",
       "9444                 1                        0           NaN             NaN   \n",
       "13767                1                        1           NaN             NaN   \n",
       "13768                1                        0           NaN             NaN   \n",
       "13787                1                        0           NaN             NaN   \n",
       "16216                1                        0           NaN             NaN   \n",
       "16221                1                        0           NaN             NaN   \n",
       "16223                1                        0           NaN             NaN   \n",
       "18626                1                        5           NaN             NaN   \n",
       "18671                1                        0           NaN             NaN   \n",
       "20088                1                        0           NaN             NaN   \n",
       "21532                1                        0           NaN             NaN   \n",
       "22997                1                        1           NaN             NaN   \n",
       "23006                1                        0           NaN             NaN   \n",
       "23011                1                        0           NaN             NaN   \n",
       "\n",
       "      Class Name  Title Length  Review Length  \n",
       "9444         NaN            20            308  \n",
       "13767        NaN             8            241  \n",
       "13768        NaN            15            106  \n",
       "13787        NaN             0              0  \n",
       "16216        NaN            13             49  \n",
       "16221        NaN             5            110  \n",
       "16223        NaN            15            162  \n",
       "18626        NaN            21            275  \n",
       "18671        NaN            13             97  \n",
       "20088        NaN            17            256  \n",
       "21532        NaN            12            286  \n",
       "22997        NaN            37            221  \n",
       "23006        NaN            15             73  \n",
       "23011        NaN            11            163  "
      ]
     },
     "execution_count": 11,
     "metadata": {},
     "output_type": "execute_result"
    }
   ],
   "source": [
    "reviews_df[(reviews_df['Division Name'].isnull()) |\n",
    "          (reviews_df['Department Name'].isnull()) |\n",
    "          (reviews_df['Class Name'].isnull())]"
   ]
  },
  {
   "cell_type": "markdown",
   "id": "c904e3e5",
   "metadata": {},
   "source": [
    "As you can see, there are only 14 out of 23,486 entries missing this information, a minuscule portion (less than 0.05%). Although accurately filling them in could by a fun exercise, a quick glance at their details shows that none of them are particularly impactful reviews, with the highest Positive Feedback Count in the group being 5, and there are no outliers in terms of review length or rating. Basically, leaving these values empty or dropping these entries altogether would have virtually no impact on the fidelity of our results. <br>\n",
    "\n",
    "In this case we will just be deleting them:"
   ]
  },
  {
   "cell_type": "code",
   "execution_count": 12,
   "id": "c4b4b0e5",
   "metadata": {},
   "outputs": [],
   "source": [
    "index_null_department = reviews_df[(reviews_df['Division Name'].isnull()) |\n",
    "          (reviews_df['Department Name'].isnull()) |\n",
    "          (reviews_df['Class Name'].isnull())].index\n",
    "\n",
    "reviews_df.drop(index_null_department, inplace = True)"
   ]
  },
  {
   "cell_type": "markdown",
   "id": "ec2d594a",
   "metadata": {},
   "source": [
    "## Exploratory Data Analysis"
   ]
  },
  {
   "cell_type": "markdown",
   "id": "d6c12493",
   "metadata": {},
   "source": [
    "First, let us see if we can glimpse anything from a description of our data:"
   ]
  },
  {
   "cell_type": "code",
   "execution_count": 13,
   "id": "1abcaefd",
   "metadata": {},
   "outputs": [
    {
     "data": {
      "text/html": [
       "<div>\n",
       "<style scoped>\n",
       "    .dataframe tbody tr th:only-of-type {\n",
       "        vertical-align: middle;\n",
       "    }\n",
       "\n",
       "    .dataframe tbody tr th {\n",
       "        vertical-align: top;\n",
       "    }\n",
       "\n",
       "    .dataframe thead th {\n",
       "        text-align: right;\n",
       "    }\n",
       "</style>\n",
       "<table border=\"1\" class=\"dataframe\">\n",
       "  <thead>\n",
       "    <tr style=\"text-align: right;\">\n",
       "      <th></th>\n",
       "      <th>Clothing ID</th>\n",
       "      <th>Age</th>\n",
       "      <th>Rating</th>\n",
       "      <th>Recommended IND</th>\n",
       "      <th>Positive Feedback Count</th>\n",
       "      <th>Title Length</th>\n",
       "      <th>Review Length</th>\n",
       "    </tr>\n",
       "  </thead>\n",
       "  <tbody>\n",
       "    <tr>\n",
       "      <th>count</th>\n",
       "      <td>23472.000000</td>\n",
       "      <td>23472.000000</td>\n",
       "      <td>23472.000000</td>\n",
       "      <td>23472.000000</td>\n",
       "      <td>23472.000000</td>\n",
       "      <td>23472.000000</td>\n",
       "      <td>23472.000000</td>\n",
       "    </tr>\n",
       "    <tr>\n",
       "      <th>mean</th>\n",
       "      <td>918.486665</td>\n",
       "      <td>43.200707</td>\n",
       "      <td>4.195552</td>\n",
       "      <td>0.822256</td>\n",
       "      <td>2.537151</td>\n",
       "      <td>15.999744</td>\n",
       "      <td>297.659168</td>\n",
       "    </tr>\n",
       "    <tr>\n",
       "      <th>std</th>\n",
       "      <td>202.727678</td>\n",
       "      <td>12.280913</td>\n",
       "      <td>1.110188</td>\n",
       "      <td>0.382305</td>\n",
       "      <td>5.703597</td>\n",
       "      <td>11.246124</td>\n",
       "      <td>152.567772</td>\n",
       "    </tr>\n",
       "    <tr>\n",
       "      <th>min</th>\n",
       "      <td>0.000000</td>\n",
       "      <td>18.000000</td>\n",
       "      <td>1.000000</td>\n",
       "      <td>0.000000</td>\n",
       "      <td>0.000000</td>\n",
       "      <td>0.000000</td>\n",
       "      <td>0.000000</td>\n",
       "    </tr>\n",
       "    <tr>\n",
       "      <th>25%</th>\n",
       "      <td>861.000000</td>\n",
       "      <td>34.000000</td>\n",
       "      <td>4.000000</td>\n",
       "      <td>1.000000</td>\n",
       "      <td>0.000000</td>\n",
       "      <td>9.000000</td>\n",
       "      <td>173.000000</td>\n",
       "    </tr>\n",
       "    <tr>\n",
       "      <th>50%</th>\n",
       "      <td>936.000000</td>\n",
       "      <td>41.000000</td>\n",
       "      <td>5.000000</td>\n",
       "      <td>1.000000</td>\n",
       "      <td>1.000000</td>\n",
       "      <td>15.000000</td>\n",
       "      <td>292.000000</td>\n",
       "    </tr>\n",
       "    <tr>\n",
       "      <th>75%</th>\n",
       "      <td>1078.000000</td>\n",
       "      <td>52.000000</td>\n",
       "      <td>5.000000</td>\n",
       "      <td>1.000000</td>\n",
       "      <td>3.000000</td>\n",
       "      <td>23.000000</td>\n",
       "      <td>451.000000</td>\n",
       "    </tr>\n",
       "    <tr>\n",
       "      <th>max</th>\n",
       "      <td>1205.000000</td>\n",
       "      <td>99.000000</td>\n",
       "      <td>5.000000</td>\n",
       "      <td>1.000000</td>\n",
       "      <td>122.000000</td>\n",
       "      <td>52.000000</td>\n",
       "      <td>508.000000</td>\n",
       "    </tr>\n",
       "  </tbody>\n",
       "</table>\n",
       "</div>"
      ],
      "text/plain": [
       "        Clothing ID           Age        Rating  Recommended IND  \\\n",
       "count  23472.000000  23472.000000  23472.000000     23472.000000   \n",
       "mean     918.486665     43.200707      4.195552         0.822256   \n",
       "std      202.727678     12.280913      1.110188         0.382305   \n",
       "min        0.000000     18.000000      1.000000         0.000000   \n",
       "25%      861.000000     34.000000      4.000000         1.000000   \n",
       "50%      936.000000     41.000000      5.000000         1.000000   \n",
       "75%     1078.000000     52.000000      5.000000         1.000000   \n",
       "max     1205.000000     99.000000      5.000000         1.000000   \n",
       "\n",
       "       Positive Feedback Count  Title Length  Review Length  \n",
       "count             23472.000000  23472.000000   23472.000000  \n",
       "mean                  2.537151     15.999744     297.659168  \n",
       "std                   5.703597     11.246124     152.567772  \n",
       "min                   0.000000      0.000000       0.000000  \n",
       "25%                   0.000000      9.000000     173.000000  \n",
       "50%                   1.000000     15.000000     292.000000  \n",
       "75%                   3.000000     23.000000     451.000000  \n",
       "max                 122.000000     52.000000     508.000000  "
      ]
     },
     "execution_count": 13,
     "metadata": {},
     "output_type": "execute_result"
    }
   ],
   "source": [
    "reviews_df.describe()"
   ]
  },
  {
   "cell_type": "markdown",
   "id": "f557df00",
   "metadata": {},
   "source": [
    "Some interesting things to note:\n",
    "\n",
    "- Our users are, on average, middle aged at 43 years old, with a standard deviation of 12 years\n",
    "- Our oldest user is 99 years old, which is suspect for an online clothing store\n",
    "- Our users seem to be mostly happy with their purchases, with the average product rating being 4.1 stars and the 25th percentile already at four stars\n",
    "- Our average review length is 297 characters, which is a little over what a tweet allows. This seems fairly normal"
   ]
  },
  {
   "cell_type": "markdown",
   "id": "d20d1a6b",
   "metadata": {},
   "source": [
    "Now we will briefly look at this website's userbase. Let's take a closer look at the age distribution of the people leaving these reviews:"
   ]
  },
  {
   "cell_type": "code",
   "execution_count": 14,
   "id": "fd36a0a6",
   "metadata": {},
   "outputs": [
    {
     "data": {
      "text/plain": [
       "Text(0.5, 0.98, 'Distribution of Users by Age')"
      ]
     },
     "execution_count": 14,
     "metadata": {},
     "output_type": "execute_result"
    },
    {
     "data": {
      "image/png": "[encoded data removed]",
      "text/plain": [
       "<Figure size 576x432 with 1 Axes>"
      ]
     },
     "metadata": {},
     "output_type": "display_data"
    }
   ],
   "source": [
    "#First we set the style for our upcoming plots\n",
    "\n",
    "#We create a histogram of the distribution of our users by their age\n",
    "sns.set_theme(style = 'darkgrid')\n",
    "\n",
    "\n",
    "fig, ax = plt.subplots(figsize = (8,6))\n",
    "sns.histplot(x = 'Age', \n",
    "             data = reviews_df, \n",
    "             color = 'r', \n",
    "             bins = 40, \n",
    "             palette = 'rocket_r')\n",
    "ax.set_xlabel('Age [Years]')\n",
    "ax.set_ylabel('User count')\n",
    "fig.suptitle('Distribution of Users by Age')"
   ]
  },
  {
   "cell_type": "code",
   "execution_count": 15,
   "id": "e55f67dc",
   "metadata": {},
   "outputs": [
    {
     "name": "stdout",
     "output_type": "stream",
     "text": [
      "Number of people of the age of 70:  473\n",
      "\n",
      "\n",
      "Distribution of the ages of these users:\n",
      "Age | Count\n"
     ]
    },
    {
     "data": {
      "text/plain": [
       "70    93\n",
       "71    51\n",
       "74    50\n",
       "72    46\n",
       "83    43\n",
       "73    40\n",
       "75    26\n",
       "77    18\n",
       "78    15\n",
       "79    15\n",
       "82    13\n",
       "80    10\n",
       "76    10\n",
       "85     6\n",
       "84     6\n",
       "89     5\n",
       "81     5\n",
       "91     5\n",
       "87     4\n",
       "94     3\n",
       "93     2\n",
       "90     2\n",
       "86     2\n",
       "99     2\n",
       "92     1\n",
       "Name: Age, dtype: int64"
      ]
     },
     "execution_count": 15,
     "metadata": {},
     "output_type": "execute_result"
    }
   ],
   "source": [
    "#Through our histogram we can see that we have a lot of users over the age of 70.\n",
    "#We can see a tally of the distribution of these users up ahead\n",
    "print('Number of people of the age of 70: ', reviews_df[reviews_df['Age'] >= 70]['Age'].count())\n",
    "print('\\n')\n",
    "print('Distribution of the ages of these users:')\n",
    "print('Age | Count')\n",
    "reviews_df[reviews_df['Age'] >= 70]['Age'].value_counts().sort_values(ascending = False)"
   ]
  },
  {
   "cell_type": "code",
   "execution_count": 16,
   "id": "5be4f169",
   "metadata": {},
   "outputs": [
    {
     "data": {
      "text/html": [
       "<div>\n",
       "<style scoped>\n",
       "    .dataframe tbody tr th:only-of-type {\n",
       "        vertical-align: middle;\n",
       "    }\n",
       "\n",
       "    .dataframe tbody tr th {\n",
       "        vertical-align: top;\n",
       "    }\n",
       "\n",
       "    .dataframe thead th {\n",
       "        text-align: right;\n",
       "    }\n",
       "</style>\n",
       "<table border=\"1\" class=\"dataframe\">\n",
       "  <thead>\n",
       "    <tr style=\"text-align: right;\">\n",
       "      <th></th>\n",
       "      <th>Clothing ID</th>\n",
       "      <th>Age</th>\n",
       "      <th>Title</th>\n",
       "      <th>Review Text</th>\n",
       "      <th>Rating</th>\n",
       "      <th>Recommended IND</th>\n",
       "      <th>Positive Feedback Count</th>\n",
       "      <th>Division Name</th>\n",
       "      <th>Department Name</th>\n",
       "      <th>Class Name</th>\n",
       "      <th>Title Length</th>\n",
       "      <th>Review Length</th>\n",
       "    </tr>\n",
       "  </thead>\n",
       "  <tbody>\n",
       "    <tr>\n",
       "      <th>8327</th>\n",
       "      <td>1078</td>\n",
       "      <td>99</td>\n",
       "      <td>Beachy and boho!</td>\n",
       "      <td>I love the weight of the material; sometimes c...</td>\n",
       "      <td>5</td>\n",
       "      <td>1</td>\n",
       "      <td>1</td>\n",
       "      <td>General</td>\n",
       "      <td>Dresses</td>\n",
       "      <td>Dresses</td>\n",
       "      <td>16</td>\n",
       "      <td>500</td>\n",
       "    </tr>\n",
       "    <tr>\n",
       "      <th>11545</th>\n",
       "      <td>949</td>\n",
       "      <td>99</td>\n",
       "      <td></td>\n",
       "      <td>Great quality, i didn't expect the neck to be ...</td>\n",
       "      <td>4</td>\n",
       "      <td>1</td>\n",
       "      <td>4</td>\n",
       "      <td>General</td>\n",
       "      <td>Tops</td>\n",
       "      <td>Sweaters</td>\n",
       "      <td>0</td>\n",
       "      <td>78</td>\n",
       "    </tr>\n",
       "  </tbody>\n",
       "</table>\n",
       "</div>"
      ],
      "text/plain": [
       "       Clothing ID  Age             Title  \\\n",
       "8327          1078   99  Beachy and boho!   \n",
       "11545          949   99                     \n",
       "\n",
       "                                             Review Text  Rating  \\\n",
       "8327   I love the weight of the material; sometimes c...       5   \n",
       "11545  Great quality, i didn't expect the neck to be ...       4   \n",
       "\n",
       "       Recommended IND  Positive Feedback Count Division Name Department Name  \\\n",
       "8327                 1                        1       General         Dresses   \n",
       "11545                1                        4       General            Tops   \n",
       "\n",
       "      Class Name  Title Length  Review Length  \n",
       "8327     Dresses            16            500  \n",
       "11545   Sweaters             0             78  "
      ]
     },
     "execution_count": 16,
     "metadata": {},
     "output_type": "execute_result"
    }
   ],
   "source": [
    "#We can retrieve the data of our oldest users\n",
    "reviews_df[reviews_df['Age'] == reviews_df['Age'].max()]"
   ]
  },
  {
   "cell_type": "markdown",
   "id": "554c1a6c",
   "metadata": {},
   "source": [
    "We can see that our audience is slightly skewed towards people over the age of 40. Furthermore, we can see that we have 473 users over the age of 70, 80 and even 90, with two users registered as being 99 years old. While this is within the realm of possibility, it's more likely that a lot of users are intentionally misreporting their age when using the site. After all, most websites have you self-reporting your age and don't ask for verification. This further skews our age data towards the older side.<br>\n",
    "\n",
    "None of this means that we should change these (possibly) fake values. Ultimately, there will always be a segment of our userbase that will not be truthful with details like these and any model that ends up being deployed will have to deal with them regardless. <br>\n",
    "\n",
    "Now we will study the Review and Title Lengths and try to determine if they have a relationship to Ratings or Positive Feedback Counts."
   ]
  },
  {
   "cell_type": "code",
   "execution_count": 17,
   "id": "6092b623",
   "metadata": {},
   "outputs": [
    {
     "data": {
      "text/plain": [
       "Text(0.5, 0.98, 'Distribution of Reviews by Review Length in number of characters')"
      ]
     },
     "execution_count": 17,
     "metadata": {},
     "output_type": "execute_result"
    },
    {
     "data": {
      "image/png": "[encoded data removed]",
      "text/plain": [
       "<Figure size 576x432 with 1 Axes>"
      ]
     },
     "metadata": {},
     "output_type": "display_data"
    }
   ],
   "source": [
    "fig, ax = plt.subplots(figsize = (8,6))\n",
    "sns.histplot(x = 'Review Length', \n",
    "             data = reviews_df, \n",
    "             palette = 'rocket',\n",
    "             color = 'r', \n",
    "             bins = 50)\n",
    "ax.set_xlabel('Review Length [Character Count]')\n",
    "ax.set_ylabel('Review Count')\n",
    "fig.suptitle('Distribution of Reviews by Review Length in number of characters')"
   ]
  },
  {
   "cell_type": "markdown",
   "id": "e523ae0c",
   "metadata": {},
   "source": [
    "There are a couple things to note here. First of all, because of all of the empty strings we added we can see a small spike at the 0 character count. Second, the review length seems to be evenly spread between 100 and 400 characters but then we see that a large number of our users left reviews with a length of around 500 characters.<br>\n",
    "\n",
    "Let's see if there is a pattern in the actual numbers:"
   ]
  },
  {
   "cell_type": "code",
   "execution_count": 18,
   "id": "96acf9af",
   "metadata": {},
   "outputs": [
    {
     "name": "stdout",
     "output_type": "stream",
     "text": [
      "Number of reviews with a certain lenght in characters\n",
      "Length | No. of reviews\n"
     ]
    },
    {
     "data": {
      "text/plain": [
       "500    3061\n",
       "0       844\n",
       "499     807\n",
       "502     448\n",
       "495     138\n",
       "       ... \n",
       "9         1\n",
       "15        1\n",
       "11        1\n",
       "34        1\n",
       "507       1\n",
       "Name: Review Length, Length: 498, dtype: int64"
      ]
     },
     "execution_count": 18,
     "metadata": {},
     "output_type": "execute_result"
    }
   ],
   "source": [
    "print('Number of reviews with a certain lenght in characters')\n",
    "print('Length | No. of reviews')\n",
    "reviews_df['Review Length'].value_counts()"
   ]
  },
  {
   "cell_type": "markdown",
   "id": "cd5f0e40",
   "metadata": {},
   "source": [
    "We can see that the most common review length is exactly 500 characters. We also have some amount of people leaving reviews over 500 characters:"
   ]
  },
  {
   "cell_type": "code",
   "execution_count": 19,
   "id": "a8a2c108",
   "metadata": {},
   "outputs": [
    {
     "name": "stdout",
     "output_type": "stream",
     "text": [
      "Number of reviews with a lenght over 500 characters\n",
      "Length | No. of reviews\n"
     ]
    },
    {
     "data": {
      "text/plain": [
       "502    448\n",
       "501    109\n",
       "504     34\n",
       "503     10\n",
       "506      2\n",
       "508      2\n",
       "505      1\n",
       "507      1\n",
       "Name: Review Length, dtype: int64"
      ]
     },
     "execution_count": 19,
     "metadata": {},
     "output_type": "execute_result"
    }
   ],
   "source": [
    "print('Number of reviews with a lenght over 500 characters')\n",
    "print('Length | No. of reviews')\n",
    "reviews_df[reviews_df['Review Length'] > 500]['Review Length'].value_counts()"
   ]
  },
  {
   "cell_type": "markdown",
   "id": "97ff53f6",
   "metadata": {},
   "source": [
    "I believe that the explanation for this behaviour lies in the methodology that was used to compile this data. If we look at these long reviews themselves we can notice a pattern:"
   ]
  },
  {
   "cell_type": "code",
   "execution_count": 20,
   "id": "3491b11e",
   "metadata": {},
   "outputs": [
    {
     "name": "stdout",
     "output_type": "stream",
     "text": [
      "Review Length:  502\n",
      "More and more i find myself reliant on the reviews written by savvy shoppers before me and for the most past, they are right on in their estimation of the product. in the case of this dress-if it had not been for the reveiws-i doubt i would have even tried this. the dress is beautifully made, lined and reminiscent of the old retailer quality. it is lined in the solid periwinkle-colored fabric that matches the outer fabric print. tts and very form-fitting. falls just above the knee and does not rid\n",
      "\n",
      "\n",
      "Review Length:  502\n",
      "Just received this in the mail, tried it on and am smitten. i'm usually a l, but sometimes i'm a xl (if no stretch), in retailer tops. i bought this one in l and i'm sure glad i did. very flowy, stretchy and comfortable. i also bought the meda lace top from one september and they are very similar expect this is more of a t-shirt and the other is more of a blouse. i almost think i could've gotten a m in this because there is a lot of extra fabric at the chest which is usually never the issue for me\n",
      "\n",
      "\n",
      "Review Length:  501\n",
      "The rest of the reviewers are right about the color being in accurately pictured. i ordered the dark orange color and i recieved more of a dark cedar brown colored jacket. the print is great, i love it! it's so different than any other jackets ive seen. while the jacket is ã¼ber cute, it is a bit bulky (though the waist tie helps with that) and its not heavy winter appropriate ( it's not waterproof or heavily insulated). for your average winter day though, it will be a fun option! the removable v\n",
      "\n",
      "\n",
      "Review Length:  502\n",
      "I read the previous reviews and had hoped that the exclamations about the color being inaccurate were exaggerated- however they are sadly very true. let me be clear that this is a beautiful, comfortable piece of clothing- when you put it on it feels thick and of very good quality. and while the pattern is interesting and pretty, the \"dark orange\" color i was expecting is actually a mud brown. i think it's unfortunate that retailer misrepresented such a key element of the jacket, but i digress. the\n",
      "\n",
      "\n"
     ]
    }
   ],
   "source": [
    "for i in range(4):\n",
    "    print('Review Length: ', reviews_df[reviews_df['Review Length'] > 500]['Review Length'].iloc[i])\n",
    "    print(reviews_df[reviews_df['Review Length'] > 500]['Review Text'].iloc[i])\n",
    "    print('\\n')"
   ]
  },
  {
   "cell_type": "markdown",
   "id": "0bed2fed",
   "metadata": {},
   "source": [
    "We can tell that most of these reviews end rather awkwardly, as if they were cut off mid-sentence. This implies that when these reviews were first gathered, a limit of +-500 characters was imposed by the author of this dataset. Whether this was to make the .csv file size more compact or some other reason, I cannot say. The methodology that was used to create the dataset is not described. <br>\n",
    "\n",
    "Now let's take a look at the title length:"
   ]
  },
  {
   "cell_type": "code",
   "execution_count": 21,
   "id": "ecb95506",
   "metadata": {},
   "outputs": [
    {
     "data": {
      "text/plain": [
       "Text(0.5, 0.98, 'Distribution of Reviews by Title Length in number of characters')"
      ]
     },
     "execution_count": 21,
     "metadata": {},
     "output_type": "execute_result"
    },
    {
     "data": {
      "image/png": "[encoded data removed]",
      "text/plain": [
       "<Figure size 576x432 with 1 Axes>"
      ]
     },
     "metadata": {},
     "output_type": "display_data"
    }
   ],
   "source": [
    "fig, ax = plt.subplots(figsize = (8,6))\n",
    "sns.histplot(x = 'Title Length', \n",
    "             data = reviews_df, \n",
    "             palette = 'rocket',\n",
    "             color = 'r', \n",
    "             bins = 50)\n",
    "ax.set_xlabel('Title Length [Character Count]')\n",
    "ax.set_ylabel('Review Count')\n",
    "fig.suptitle('Distribution of Reviews by Title Length in number of characters')"
   ]
  },
  {
   "cell_type": "markdown",
   "id": "5e7d201b",
   "metadata": {},
   "source": [
    "Here, we can see the opposite behavior to the review length, where most users either leave no title at all or leave short titles of around 15 characters. From the two histograms we have seen we can ask:\n",
    "\n",
    "- Is there a relationship between review length and rating?\n",
    "- Is there a relationship between title length and rating?"
   ]
  },
  {
   "cell_type": "code",
   "execution_count": 22,
   "id": "93dc6ffc",
   "metadata": {},
   "outputs": [],
   "source": [
    "#We calculate the percentages of reviews by rating for titles with different lengths\n",
    "\n",
    "#Titles under 10 characters\n",
    "perc_under_10 = (100 * reviews_df[reviews_df['Title Length'] <= 10]['Rating'].value_counts()/\n",
    "                 reviews_df[reviews_df['Title Length'] <= 10]['Rating'].count())\n",
    "\n",
    "#Titles between 11 and 20 characters\n",
    "perc_11_to_20 = (100 * reviews_df[(reviews_df['Title Length'] > 10) & (reviews_df['Title Length'] <= 20)]['Rating'].value_counts()/\n",
    "                reviews_df[(reviews_df['Title Length'] > 10) & (reviews_df['Title Length'] <= 20)]['Rating'].count())\n",
    "\n",
    "#Titles between 21 and 30 characters\n",
    "perc_21_to_30 = (100 * reviews_df[(reviews_df['Title Length'] > 20) & (reviews_df['Title Length'] <= 30)]['Rating'].value_counts()/\n",
    "                reviews_df[(reviews_df['Title Length'] > 20) & (reviews_df['Title Length'] <= 30)]['Rating'].count())\n",
    "\n",
    "#Titles between 31 and 40 characters\n",
    "perc_31_to_40 = (100 * reviews_df[(reviews_df['Title Length'] > 30) & (reviews_df['Title Length'] <= 40)]['Rating'].value_counts()/\n",
    "                reviews_df[(reviews_df['Title Length'] > 30) & (reviews_df['Title Length'] <= 40)]['Rating'].count())\n",
    "\n",
    "#Titles over 40 characters\n",
    "perc_over_41 = (100 * reviews_df[reviews_df['Title Length'] > 40]['Rating'].value_counts()/\n",
    "                reviews_df[reviews_df['Title Length'] > 40]['Rating'].count())"
   ]
  },
  {
   "cell_type": "code",
   "execution_count": 23,
   "id": "ada7a7e2",
   "metadata": {},
   "outputs": [],
   "source": [
    "#If you wish to see an example of these percentages, uncomment:\n",
    "#print(perc_under_10)"
   ]
  },
  {
   "cell_type": "code",
   "execution_count": 24,
   "id": "08e4f9d6",
   "metadata": {},
   "outputs": [
    {
     "data": {
      "text/plain": [
       "Text(0.5, 0.98, 'Percentages of Each Rating Separated by Title Length in Characters')"
      ]
     },
     "execution_count": 24,
     "metadata": {},
     "output_type": "execute_result"
    },
    {
     "data": {
      "image/png": "[encoded data removed]",
      "text/plain": [
       "<Figure size 1152x288 with 5 Axes>"
      ]
     },
     "metadata": {},
     "output_type": "display_data"
    }
   ],
   "source": [
    "fig, (ax1, ax2, ax3, ax4, ax5) = plt.subplots(1, 5, figsize = (16,4), sharey = True)\n",
    "\n",
    "sns.barplot(x = perc_under_10.index, y = perc_under_10.values, palette = 'rocket_r', ax = ax1)\n",
    "ax1.set_ylabel('Percentage')\n",
    "ax1.set_xlabel('Under 10')\n",
    "\n",
    "sns.barplot(x = perc_11_to_20.index, y = perc_11_to_20.values, palette = 'rocket_r', ax = ax2)\n",
    "ax2.set_xlabel('Between 11 and 20')\n",
    "\n",
    "sns.barplot(x = perc_21_to_30.index, y = perc_21_to_30.values, palette = 'rocket_r', ax = ax3)\n",
    "ax3.set_xlabel('Between 21 and 30')\n",
    "\n",
    "sns.barplot(x = perc_31_to_40.index, y = perc_31_to_40.values, palette = 'rocket_r', ax = ax4)\n",
    "ax4.set_xlabel('Between 31 and 40')\n",
    "\n",
    "sns.barplot(x = perc_over_41.index, y = perc_over_41.values, palette = 'rocket_r', ax = ax5)\n",
    "ax5.set_xlabel('Over 41')\n",
    "\n",
    "fig.suptitle('Percentages of Each Rating Separated by Title Length in Characters')"
   ]
  },
  {
   "cell_type": "markdown",
   "id": "521de879",
   "metadata": {},
   "source": [
    "What the figure above is showing is the percentage of each rating but separated by the length of the review in characters. That is to say, the first plot shows the relative distribution of ratings of 1-5 stars for reviews with titles made of 10 or less characters, the second plot for reviews with titles between 11 and 20 characters long and so on."
   ]
  },
  {
   "cell_type": "markdown",
   "id": "ca3188ca",
   "metadata": {},
   "source": [
    "From the beginning we've known that users are generally happy with their products because we the mean of the ratings overall is 4.2, and we can still see this positivity in all 5 histograms above. However, we can also notice that the longer the titles are the smaller the portion of 5 star reviews is. This seems to be compensated not with negative reviews but rather, more 3 and 4 star reviews. <br>\n",
    "\n",
    "If we read a randomly selected sample of these titles we can notice a small trend:"
   ]
  },
  {
   "cell_type": "code",
   "execution_count": 25,
   "id": "f3acc914",
   "metadata": {},
   "outputs": [
    {
     "name": "stdout",
     "output_type": "stream",
     "text": [
      "I'd rather pay property taxes than buy this one! \n",
      "\n",
      "Lovely, feminine, needs belt for definition \n",
      "\n",
      "Beautiful, vintage feel, delicate beadwork \n",
      "\n",
      "Not sure what body type this suit is designed for \n",
      "\n",
      "Really cute dress, if you can do the handkerchief \n",
      "\n",
      "The perfect swimsuit - functional and stunning! \n",
      "\n",
      "Not sure what body type this suit is designed for \n",
      "\n",
      "Really close to liking it - but planning to return \n",
      "\n",
      "Really cute dress, if you can do the handkerchief \n",
      "\n",
      "Lovely, feminine, needs belt for definition \n",
      "\n"
     ]
    }
   ],
   "source": [
    "for i in np.random.randint(0, 100, 10):\n",
    "    print(reviews_df[reviews_df['Title Length'] > 40]['Title'].iloc[i], '\\n')"
   ]
  },
  {
   "cell_type": "markdown",
   "id": "82d675b9",
   "metadata": {},
   "source": [
    "By reading these titles we can see that while most of them generally liked the design of the item, they still had some issues with it. These issues range from the size being too big or too small, the cut not being the correct one for their body type or it looking different from the image on the website. <br>\n",
    "\n",
    "Although these people aren't angry and probably wouldn't write this retailer off for good, this is still a problem that could be adressed in different ways:\n",
    "\n",
    "- A more in-depth description of the item's measurements could be provided on the website\n",
    "- Displaying pictures with more models with different body types wearing different sizes\n",
    "- Diagrams of the cut could be provided\n",
    "\n",
    "This could also be an issue with quality assurance, where some people are getting pieces that were longer or shorter than were originally designed to, but this is unlikely. Without knowing who this retailer is, there is no way of knowing. <br>\n",
    "\n",
    "It's also entirely possible that all of these solutions have been implemented and people are just not reading the item descriptions on the website before buying. <br>\n",
    "\n",
    "Now let's see if this behavior exists with the actual review text:"
   ]
  },
  {
   "cell_type": "code",
   "execution_count": 26,
   "id": "39c0d3ac",
   "metadata": {},
   "outputs": [],
   "source": [
    "#We calculate the percentages of reviews by rating for reviews with different lengths\n",
    "\n",
    "#Reviews under 100 characters\n",
    "perc_under_100 = (100 * reviews_df[reviews_df['Review Length'] <= 100]['Rating'].value_counts()/\n",
    "                 reviews_df[reviews_df['Review Length'] <= 100]['Rating'].count())\n",
    "\n",
    "#Titles between 101 and 200 characters\n",
    "perc_101_to_200 = (100 * reviews_df[(reviews_df['Review Length'] > 100) & (reviews_df['Review Length'] <= 200)]['Rating'].value_counts()/\n",
    "                reviews_df[(reviews_df['Review Length'] > 100) & (reviews_df['Review Length'] <= 200)]['Rating'].count())\n",
    "\n",
    "#Titles between 201 and 300 characters\n",
    "perc_201_to_300 = (100 * reviews_df[(reviews_df['Review Length'] > 200) & (reviews_df['Review Length'] <= 300)]['Rating'].value_counts()/\n",
    "                reviews_df[(reviews_df['Review Length'] > 200) & (reviews_df['Review Length'] <= 300)]['Rating'].count())\n",
    "\n",
    "#Titles between 301 and 400 characters\n",
    "perc_301_to_400 = (100 * reviews_df[(reviews_df['Review Length'] > 300) & (reviews_df['Review Length'] <= 400)]['Rating'].value_counts()/\n",
    "                reviews_df[(reviews_df['Review Length'] > 300) & (reviews_df['Review Length'] <= 400)]['Rating'].count())\n",
    "\n",
    "#Titles over 401 characters\n",
    "perc_over_401 = (100 * reviews_df[reviews_df['Review Length'] > 400]['Rating'].value_counts()/\n",
    "                reviews_df[reviews_df['Review Length'] > 400]['Rating'].count())"
   ]
  },
  {
   "cell_type": "code",
   "execution_count": 27,
   "id": "646a19b8",
   "metadata": {},
   "outputs": [
    {
     "data": {
      "text/plain": [
       "Text(0.5, 0.98, 'Percentages of Each Rating Separated by Review Length in Characters')"
      ]
     },
     "execution_count": 27,
     "metadata": {},
     "output_type": "execute_result"
    },
    {
     "data": {
      "image/png": "[encoded data removed]",
      "text/plain": [
       "<Figure size 1152x288 with 5 Axes>"
      ]
     },
     "metadata": {},
     "output_type": "display_data"
    }
   ],
   "source": [
    "fig, (ax1, ax2, ax3, ax4, ax5) = plt.subplots(1, 5, figsize = (16,4), sharey = True)\n",
    "\n",
    "sns.barplot(x = perc_under_100.index, y = perc_under_100.values, palette = 'rocket_r', ax = ax1)\n",
    "ax1.set_ylabel('Percentage')\n",
    "ax1.set_xlabel('Under 100')\n",
    "\n",
    "sns.barplot(x = perc_101_to_200.index, y = perc_101_to_200.values, palette = 'rocket_r', ax = ax2)\n",
    "ax2.set_xlabel('Between 101 and 200')\n",
    "\n",
    "sns.barplot(x = perc_201_to_300.index, y = perc_201_to_300.values, palette = 'rocket_r', ax = ax3)\n",
    "ax3.set_xlabel('Between 201 and 300')\n",
    "\n",
    "sns.barplot(x = perc_301_to_400.index, y = perc_301_to_400.values, palette = 'rocket_r', ax = ax4)\n",
    "ax4.set_xlabel('Between 301 and 400')\n",
    "\n",
    "sns.barplot(x = perc_over_401.index, y = perc_over_401.values, palette = 'rocket_r', ax = ax5)\n",
    "ax5.set_xlabel('Over 401')\n",
    "\n",
    "fig.suptitle('Percentages of Each Rating Separated by Review Length in Characters')"
   ]
  },
  {
   "cell_type": "markdown",
   "id": "1bf72fc6",
   "metadata": {},
   "source": [
    "We can see that yes, the same behavior carries over but to a lesser degree. Overall, the happier someone is with their purchase, the less they have to say, but not by a lot.\n",
    "Ultimately this makes a lot of sense. After all, most people who are happy with a purchase they made in a brick-and-mortar store will just walk away while someone unhappy with the product is more likely to return and complain or demand a refund. The fact that this behaviour carries over into e-commerce is hardly surprising."
   ]
  },
  {
   "cell_type": "markdown",
   "id": "32d6170e",
   "metadata": {},
   "source": [
    "We're going to be trying to predict whether a review is impactful or not from different factors. We're thinking of a review as impactful if 5 or more people thought it was a 'positive' review. The number 5 is purely arbitrary and a better limit could be chosen. <br> \n",
    "\n",
    "Being able to predict this would be valuable because a website could then float useful reviews to the top without having them be buried in a pile of useless reviews and without waiting for them to be given multiple thumbs up by many users. It could also help see what types of reviews would be more or less likely to convince someone to buy or not buy an item. <br>\n",
    "\n",
    "We will add a column on the dataframe called 'Impactful' which will be 1 if the value of that review in the Positive Feedback Count is 5 or more, and 0 if it's under 5."
   ]
  },
  {
   "cell_type": "code",
   "execution_count": 28,
   "id": "8cc2786b",
   "metadata": {},
   "outputs": [],
   "source": [
    "#First we define a simple function to differentiate between impactful and unimpactful reviews\n",
    "\n",
    "def is_impactful(feedback):\n",
    "    if feedback >= 5:\n",
    "        return 1\n",
    "    else:\n",
    "        return 0"
   ]
  },
  {
   "cell_type": "code",
   "execution_count": 29,
   "id": "ba4bcca5",
   "metadata": {},
   "outputs": [],
   "source": [
    "#We create the new column\n",
    "reviews_df['Impactful'] = reviews_df['Positive Feedback Count'].apply(is_impactful)"
   ]
  },
  {
   "cell_type": "markdown",
   "id": "fbf9a79d",
   "metadata": {},
   "source": [
    "Let's see if through visualization we can glimpse something from this new column."
   ]
  },
  {
   "cell_type": "code",
   "execution_count": 30,
   "id": "a28d678c",
   "metadata": {},
   "outputs": [
    {
     "data": {
      "text/plain": [
       "Text(0.5, 0.98, 'Distribution of Reviews by Whether They Are Impactful Or Not')"
      ]
     },
     "execution_count": 30,
     "metadata": {},
     "output_type": "execute_result"
    },
    {
     "data": {
      "image/png": "[encoded data removed]",
      "text/plain": [
       "<Figure size 576x432 with 1 Axes>"
      ]
     },
     "metadata": {},
     "output_type": "display_data"
    }
   ],
   "source": [
    "#First we'll just plot the distribution of impactful and unimpactful reviews\n",
    "fig, ax = plt.subplots(figsize = (8,6))\n",
    "sns.countplot(x = 'Impactful', \n",
    "             data = reviews_df, \n",
    "             palette = 'rocket')\n",
    "ax.set_xticklabels(['Unimpactful', 'Impactful'])\n",
    "ax.set_xlabel('')\n",
    "ax.set_ylabel('Review Count')\n",
    "fig.suptitle('Distribution of Reviews by Whether They Are Impactful Or Not')"
   ]
  },
  {
   "cell_type": "markdown",
   "id": "d23e1ecd",
   "metadata": {},
   "source": [
    "So a majority of reviews are unimpactful by our definition. This makes sense, as a lot of reviews have no text or title, and many reviews probably don't go into detail beyond simple praise like \"I love it\". Two other explanations are that a lot of reviews will just be buried under other reviews and will never have the chance to make and impact and that, just like a lot of people simply aren't compelled to leave a review title in and of itself, a lot of people  just don't think to hit the 'Like' button. Now let's separate these by whether the reviews recommended the item or not."
   ]
  },
  {
   "cell_type": "code",
   "execution_count": 31,
   "id": "d97261d7",
   "metadata": {},
   "outputs": [
    {
     "data": {
      "text/plain": [
       "Text(0.5, 0.98, 'Distribution of Reviews by Whether They Are Impactful Or Not')"
      ]
     },
     "execution_count": 31,
     "metadata": {},
     "output_type": "execute_result"
    },
    {
     "data": {
      "image/png": "[encoded data removed]",
      "text/plain": [
       "<Figure size 576x432 with 1 Axes>"
      ]
     },
     "metadata": {},
     "output_type": "display_data"
    }
   ],
   "source": [
    "#Now let's separate these by whether the review ends up recommending the item\n",
    "#First we'll just plot the distribution of impactful and unimpactful reviews\n",
    "fig, ax = plt.subplots(figsize = (8,6))\n",
    "sns.countplot(x = 'Impactful', \n",
    "             data = reviews_df, \n",
    "             hue = 'Recommended IND',\n",
    "             palette = 'rocket')\n",
    "ax.set_xticklabels(['Unimpactful', 'Impactful'])\n",
    "ax.set_ylabel('Review Count')\n",
    "fig.suptitle('Distribution of Reviews by Whether They Are Impactful Or Not')"
   ]
  },
  {
   "cell_type": "markdown",
   "id": "8bb79766",
   "metadata": {},
   "source": [
    "# Natural Language Processing"
   ]
  },
  {
   "cell_type": "markdown",
   "id": "fa38af49",
   "metadata": {},
   "source": [
    "We will train 4 different models:\n",
    "- Predicting whether or not a review is impactful based on its title\n",
    "- Predicting whether or not a review is impactful based on its review text\n",
    "- Predicting whether or not a review recommends the item based on its title\n",
    "- Predicting whether or not a review recommends the item based on its review text\n",
    "\n",
    "Now, from our exploratory data analysis we know that a large majority of our reviews are both unimpactful and do end up recommending the item they purchased. This means that our data is very unbalanced and any model we train will probably end up overfitting to those states. <br>\n",
    "\n",
    "Regardless, we will try and train one of these models using the data as is to see if this happens."
   ]
  },
  {
   "cell_type": "code",
   "execution_count": 32,
   "id": "aad9cae0",
   "metadata": {},
   "outputs": [],
   "source": [
    "#These are important for text pre-processing\n",
    "import string #From here we get punctuation\n",
    "from nltk.corpus import stopwords #Stopwords are commong words like \"what\" that need don't add anything"
   ]
  },
  {
   "cell_type": "code",
   "execution_count": 33,
   "id": "27d9f461",
   "metadata": {},
   "outputs": [],
   "source": [
    "#These are for the actual model\n",
    "from sklearn.model_selection import train_test_split\n",
    "from sklearn.pipeline import Pipeline\n",
    "from sklearn.feature_extraction.text import CountVectorizer\n",
    "from sklearn.feature_extraction.text import TfidfTransformer\n",
    "from sklearn.naive_bayes import MultinomialNB"
   ]
  },
  {
   "cell_type": "code",
   "execution_count": 34,
   "id": "6dfd45f9",
   "metadata": {},
   "outputs": [],
   "source": [
    "#These are for evaluating our models\n",
    "from sklearn.metrics import confusion_matrix, classification_report"
   ]
  },
  {
   "cell_type": "code",
   "execution_count": 35,
   "id": "3644c39c",
   "metadata": {},
   "outputs": [],
   "source": [
    "def text_cleaning(text):\n",
    "    \"\"\"\n",
    "    This is a function that takes a string and removes punctuation and stopwords.\n",
    "    It returns the words that remain in the form of a list\n",
    "    \"\"\"\n",
    "    no_punct = [char for char in text if char not in string.punctuation]\n",
    "    \n",
    "    no_punct = ''.join(no_punct)\n",
    "    \n",
    "    return [word for word in no_punct.split() if word.lower() not in stopwords.words('english')]"
   ]
  },
  {
   "cell_type": "markdown",
   "id": "a1d4947d",
   "metadata": {},
   "source": [
    "## Predicting impact based on review title"
   ]
  },
  {
   "cell_type": "markdown",
   "id": "62875739",
   "metadata": {},
   "source": [
    "Our pre-processing will consist of the following steps:\n",
    "- 1.- Remove review that have no title\n",
    "- 2.- Remove punctuation from each title\n",
    "- 3.- Remove stopwords from each title"
   ]
  },
  {
   "cell_type": "code",
   "execution_count": 36,
   "id": "581ef945",
   "metadata": {},
   "outputs": [
    {
     "data": {
      "text/html": [
       "<div>\n",
       "<style scoped>\n",
       "    .dataframe tbody tr th:only-of-type {\n",
       "        vertical-align: middle;\n",
       "    }\n",
       "\n",
       "    .dataframe tbody tr th {\n",
       "        vertical-align: top;\n",
       "    }\n",
       "\n",
       "    .dataframe thead th {\n",
       "        text-align: right;\n",
       "    }\n",
       "</style>\n",
       "<table border=\"1\" class=\"dataframe\">\n",
       "  <thead>\n",
       "    <tr style=\"text-align: right;\">\n",
       "      <th></th>\n",
       "      <th>Clothing ID</th>\n",
       "      <th>Age</th>\n",
       "      <th>Title</th>\n",
       "      <th>Review Text</th>\n",
       "      <th>Rating</th>\n",
       "      <th>Recommended IND</th>\n",
       "      <th>Positive Feedback Count</th>\n",
       "      <th>Division Name</th>\n",
       "      <th>Department Name</th>\n",
       "      <th>Class Name</th>\n",
       "      <th>Title Length</th>\n",
       "      <th>Review Length</th>\n",
       "      <th>Impactful</th>\n",
       "    </tr>\n",
       "  </thead>\n",
       "  <tbody>\n",
       "    <tr>\n",
       "      <th>2</th>\n",
       "      <td>1077</td>\n",
       "      <td>60</td>\n",
       "      <td>Some major design flaws</td>\n",
       "      <td>I had such high hopes for this dress and reall...</td>\n",
       "      <td>3</td>\n",
       "      <td>0</td>\n",
       "      <td>0</td>\n",
       "      <td>General</td>\n",
       "      <td>Dresses</td>\n",
       "      <td>Dresses</td>\n",
       "      <td>23</td>\n",
       "      <td>500</td>\n",
       "      <td>0</td>\n",
       "    </tr>\n",
       "    <tr>\n",
       "      <th>3</th>\n",
       "      <td>1049</td>\n",
       "      <td>50</td>\n",
       "      <td>My favorite buy!</td>\n",
       "      <td>I love, love, love this jumpsuit. it's fun, fl...</td>\n",
       "      <td>5</td>\n",
       "      <td>1</td>\n",
       "      <td>0</td>\n",
       "      <td>General Petite</td>\n",
       "      <td>Bottoms</td>\n",
       "      <td>Pants</td>\n",
       "      <td>16</td>\n",
       "      <td>124</td>\n",
       "      <td>0</td>\n",
       "    </tr>\n",
       "    <tr>\n",
       "      <th>4</th>\n",
       "      <td>847</td>\n",
       "      <td>47</td>\n",
       "      <td>Flattering shirt</td>\n",
       "      <td>This shirt is very flattering to all due to th...</td>\n",
       "      <td>5</td>\n",
       "      <td>1</td>\n",
       "      <td>6</td>\n",
       "      <td>General</td>\n",
       "      <td>Tops</td>\n",
       "      <td>Blouses</td>\n",
       "      <td>16</td>\n",
       "      <td>192</td>\n",
       "      <td>1</td>\n",
       "    </tr>\n",
       "    <tr>\n",
       "      <th>5</th>\n",
       "      <td>1080</td>\n",
       "      <td>49</td>\n",
       "      <td>Not for the very petite</td>\n",
       "      <td>I love tracy reese dresses, but this one is no...</td>\n",
       "      <td>2</td>\n",
       "      <td>0</td>\n",
       "      <td>4</td>\n",
       "      <td>General</td>\n",
       "      <td>Dresses</td>\n",
       "      <td>Dresses</td>\n",
       "      <td>23</td>\n",
       "      <td>488</td>\n",
       "      <td>0</td>\n",
       "    </tr>\n",
       "    <tr>\n",
       "      <th>6</th>\n",
       "      <td>858</td>\n",
       "      <td>39</td>\n",
       "      <td>Cagrcoal shimmer fun</td>\n",
       "      <td>I aded this in my basket at hte last mintue to...</td>\n",
       "      <td>5</td>\n",
       "      <td>1</td>\n",
       "      <td>1</td>\n",
       "      <td>General Petite</td>\n",
       "      <td>Tops</td>\n",
       "      <td>Knits</td>\n",
       "      <td>20</td>\n",
       "      <td>496</td>\n",
       "      <td>0</td>\n",
       "    </tr>\n",
       "  </tbody>\n",
       "</table>\n",
       "</div>"
      ],
      "text/plain": [
       "   Clothing ID  Age                    Title  \\\n",
       "2         1077   60  Some major design flaws   \n",
       "3         1049   50         My favorite buy!   \n",
       "4          847   47         Flattering shirt   \n",
       "5         1080   49  Not for the very petite   \n",
       "6          858   39     Cagrcoal shimmer fun   \n",
       "\n",
       "                                         Review Text  Rating  Recommended IND  \\\n",
       "2  I had such high hopes for this dress and reall...       3                0   \n",
       "3  I love, love, love this jumpsuit. it's fun, fl...       5                1   \n",
       "4  This shirt is very flattering to all due to th...       5                1   \n",
       "5  I love tracy reese dresses, but this one is no...       2                0   \n",
       "6  I aded this in my basket at hte last mintue to...       5                1   \n",
       "\n",
       "   Positive Feedback Count   Division Name Department Name Class Name  \\\n",
       "2                        0         General         Dresses    Dresses   \n",
       "3                        0  General Petite         Bottoms      Pants   \n",
       "4                        6         General            Tops    Blouses   \n",
       "5                        4         General         Dresses    Dresses   \n",
       "6                        1  General Petite            Tops      Knits   \n",
       "\n",
       "   Title Length  Review Length  Impactful  \n",
       "2            23            500          0  \n",
       "3            16            124          0  \n",
       "4            16            192          1  \n",
       "5            23            488          0  \n",
       "6            20            496          0  "
      ]
     },
     "execution_count": 36,
     "metadata": {},
     "output_type": "execute_result"
    }
   ],
   "source": [
    "#First, we will create a new dataframe that only has the reviews with titles\n",
    "reviews_with_titles = reviews_df.drop(reviews_df[reviews_df['Title Length'] == 0].index)\n",
    "reviews_with_titles.head()"
   ]
  },
  {
   "cell_type": "markdown",
   "id": "89d584a0",
   "metadata": {},
   "source": [
    "# Model: Predicting Impactfulness Based on Title"
   ]
  },
  {
   "cell_type": "code",
   "execution_count": 37,
   "id": "e6a67fb4",
   "metadata": {},
   "outputs": [],
   "source": [
    "X = reviews_with_titles['Title']\n",
    "y = reviews_with_titles['Impactful']\n",
    "title_train, title_test, impact_train, impact_test = train_test_split(X, y, test_size = 0.20)"
   ]
  },
  {
   "cell_type": "code",
   "execution_count": 38,
   "id": "d3312409",
   "metadata": {},
   "outputs": [],
   "source": [
    "pipeline = Pipeline([\n",
    "    ('bow', CountVectorizer(analyzer = text_cleaning)),\n",
    "    ('tfidf', TfidfTransformer()),\n",
    "    ('classifier', MultinomialNB())\n",
    "])"
   ]
  },
  {
   "cell_type": "code",
   "execution_count": 39,
   "id": "dae5611b",
   "metadata": {},
   "outputs": [
    {
     "data": {
      "text/plain": [
       "Pipeline(steps=[('bow',\n",
       "                 CountVectorizer(analyzer=<function text_cleaning at 0x7fc3a15e8a60>)),\n",
       "                ('tfidf', TfidfTransformer()),\n",
       "                ('classifier', MultinomialNB())])"
      ]
     },
     "execution_count": 39,
     "metadata": {},
     "output_type": "execute_result"
    }
   ],
   "source": [
    "pipeline.fit(title_train, impact_train)"
   ]
  },
  {
   "cell_type": "code",
   "execution_count": 40,
   "id": "53b80ea4",
   "metadata": {},
   "outputs": [],
   "source": [
    "predictions = pipeline.predict(title_test)"
   ]
  },
  {
   "cell_type": "code",
   "execution_count": 41,
   "id": "dcdb77c6",
   "metadata": {},
   "outputs": [
    {
     "name": "stdout",
     "output_type": "stream",
     "text": [
      "[[3272   11]\n",
      " [ 644    6]]\n"
     ]
    }
   ],
   "source": [
    "print(confusion_matrix(impact_test, predictions))"
   ]
  },
  {
   "cell_type": "code",
   "execution_count": 42,
   "id": "1895458e",
   "metadata": {},
   "outputs": [
    {
     "name": "stdout",
     "output_type": "stream",
     "text": [
      "              precision    recall  f1-score   support\n",
      "\n",
      "           0       0.84      1.00      0.91      3283\n",
      "           1       0.35      0.01      0.02       650\n",
      "\n",
      "    accuracy                           0.83      3933\n",
      "   macro avg       0.59      0.50      0.46      3933\n",
      "weighted avg       0.76      0.83      0.76      3933\n",
      "\n"
     ]
    }
   ],
   "source": [
    "print(classification_report(impact_test, predictions))"
   ]
  },
  {
   "cell_type": "markdown",
   "id": "6d3feb4a",
   "metadata": {},
   "source": [
    "So we can see that indeed, the model is predicting most everything as unimpactful. So let's try to balance our data and try again. First, let's see exactly how many reviews are impactful under our definition.\n",
    "\n",
    "## Data balancing\n",
    "\n",
    "First, let's check how many reviews are impactful or unimpactful:"
   ]
  },
  {
   "cell_type": "code",
   "execution_count": 43,
   "id": "d97571c4",
   "metadata": {},
   "outputs": [
    {
     "data": {
      "text/plain": [
       "0    16417\n",
       "1     3246\n",
       "Name: Impactful, dtype: int64"
      ]
     },
     "execution_count": 43,
     "metadata": {},
     "output_type": "execute_result"
    }
   ],
   "source": [
    "reviews_with_titles['Impactful'].value_counts()"
   ]
  },
  {
   "cell_type": "markdown",
   "id": "010e67f6",
   "metadata": {},
   "source": [
    "So we have 7488 unimpactful reviews and 3247 impactful reviews. We'll take every impactful review and a randomly selected sample of 3200 unimpactful reviews. This should give us a fairly balanced dataset to retrain our model."
   ]
  },
  {
   "cell_type": "code",
   "execution_count": 44,
   "id": "0fa5a2db",
   "metadata": {},
   "outputs": [],
   "source": [
    "#We take a random sample of 3200 rows of unimpactful reviews\n",
    "unimpactful_sample = reviews_with_titles[reviews_with_titles['Impactful'] == 0].sample(n = 3200, axis = 0)\n",
    "\n",
    "#Now we take every single impactful review\n",
    "impactful_sample = reviews_with_titles[reviews_with_titles['Impactful'] == 1]\n",
    "\n",
    "#We concatenate both samples on a new dataframe\n",
    "reviews_with_titles_balanced = pd.concat([unimpactful_sample, impactful_sample])\n",
    "\n",
    "#We shuffle our new dataframe\n",
    "reviews_with_titles_balanced = reviews_with_titles_balanced.sample(frac = 1, axis = 0)"
   ]
  },
  {
   "cell_type": "code",
   "execution_count": 45,
   "id": "50e339cb",
   "metadata": {},
   "outputs": [
    {
     "name": "stdout",
     "output_type": "stream",
     "text": [
      "<class 'pandas.core.frame.DataFrame'>\n",
      "Int64Index: 6446 entries, 6049 to 10822\n",
      "Data columns (total 13 columns):\n",
      " #   Column                   Non-Null Count  Dtype \n",
      "---  ------                   --------------  ----- \n",
      " 0   Clothing ID              6446 non-null   int64 \n",
      " 1   Age                      6446 non-null   int64 \n",
      " 2   Title                    6446 non-null   object\n",
      " 3   Review Text              6446 non-null   object\n",
      " 4   Rating                   6446 non-null   int64 \n",
      " 5   Recommended IND          6446 non-null   int64 \n",
      " 6   Positive Feedback Count  6446 non-null   int64 \n",
      " 7   Division Name            6446 non-null   object\n",
      " 8   Department Name          6446 non-null   object\n",
      " 9   Class Name               6446 non-null   object\n",
      " 10  Title Length             6446 non-null   int64 \n",
      " 11  Review Length            6446 non-null   int64 \n",
      " 12  Impactful                6446 non-null   int64 \n",
      "dtypes: int64(8), object(5)\n",
      "memory usage: 705.0+ KB\n"
     ]
    }
   ],
   "source": [
    "reviews_with_titles_balanced.info()"
   ]
  },
  {
   "cell_type": "markdown",
   "id": "537fd468",
   "metadata": {},
   "source": [
    "## Retraining\n",
    "\n",
    "Now we will try to train our model again with our balanced data"
   ]
  },
  {
   "cell_type": "code",
   "execution_count": 46,
   "id": "1ef3c229",
   "metadata": {},
   "outputs": [],
   "source": [
    "#We begin training again\n",
    "X = reviews_with_titles_balanced['Title']\n",
    "y = reviews_with_titles_balanced['Impactful']\n",
    "title_train, title_test, impact_train, impact_test = train_test_split(X, y, test_size = 0.20)"
   ]
  },
  {
   "cell_type": "code",
   "execution_count": 47,
   "id": "01cf07be",
   "metadata": {},
   "outputs": [],
   "source": [
    "pipeline = Pipeline([\n",
    "    ('bow', CountVectorizer(analyzer = text_cleaning)),\n",
    "    ('tfidf', TfidfTransformer()),\n",
    "    ('classifier', MultinomialNB())\n",
    "])"
   ]
  },
  {
   "cell_type": "code",
   "execution_count": 48,
   "id": "8d4b80c3",
   "metadata": {},
   "outputs": [
    {
     "data": {
      "text/plain": [
       "Pipeline(steps=[('bow',\n",
       "                 CountVectorizer(analyzer=<function text_cleaning at 0x7fc3a15e8a60>)),\n",
       "                ('tfidf', TfidfTransformer()),\n",
       "                ('classifier', MultinomialNB())])"
      ]
     },
     "execution_count": 48,
     "metadata": {},
     "output_type": "execute_result"
    }
   ],
   "source": [
    "pipeline.fit(title_train, impact_train)"
   ]
  },
  {
   "cell_type": "code",
   "execution_count": 49,
   "id": "33a9183e",
   "metadata": {},
   "outputs": [],
   "source": [
    "predictions = pipeline.predict(title_test)"
   ]
  },
  {
   "cell_type": "code",
   "execution_count": 50,
   "id": "1fbb0a5b",
   "metadata": {},
   "outputs": [
    {
     "name": "stdout",
     "output_type": "stream",
     "text": [
      "[[374 240]\n",
      " [373 303]]\n"
     ]
    }
   ],
   "source": [
    "print(confusion_matrix(impact_test, predictions))"
   ]
  },
  {
   "cell_type": "code",
   "execution_count": 51,
   "id": "7d66efab",
   "metadata": {},
   "outputs": [
    {
     "name": "stdout",
     "output_type": "stream",
     "text": [
      "              precision    recall  f1-score   support\n",
      "\n",
      "           0       0.50      0.61      0.55       614\n",
      "           1       0.56      0.45      0.50       676\n",
      "\n",
      "    accuracy                           0.52      1290\n",
      "   macro avg       0.53      0.53      0.52      1290\n",
      "weighted avg       0.53      0.52      0.52      1290\n",
      "\n"
     ]
    }
   ],
   "source": [
    "print(classification_report(impact_test, predictions))"
   ]
  },
  {
   "cell_type": "markdown",
   "id": "5a917e27",
   "metadata": {},
   "source": [
    "So, what is happening here? It seems to get half of its predictions right and half of them wrong, or in other words, this is not working in the slightest. The reason for this is that what we're trying to do is inherently difficult to predict. <br>\n",
    "\n",
    "But what is so difficult about it? Well, determining what makes a review impactful or not is difficult when you only have one variable from which to measure a review's value. This 'Positive Feedback Count' on its own, while its a useful metric, is not enough to determine if a review is truly effectual. We know that a review with a Positive Feedback Count of 120 is truly impactful, but a review with a count of 5? 10? Difficult to say. <br>\n",
    "\n",
    "A lot of reviews could be truly influential but it's possible that they're not being read by users simply because they're being displayed at the bottom of an item's page. If we had more information on a reviews impact then creating a more accurate Impact label would be easier and a better model could be trained. <br>\n",
    "\n",
    "In particular I would propose the addition of a view counter for each review to this dataset. That way it would be easier to decide if a review was impactful based on the view-likes ratio. A review with five likes but also a very small amount of views would still be impactful, while a review with five likes but thousands of views? Not so much <br>\n",
    "\n",
    "For now, we will work with what we have. Let's try and retrain our model by iterating over different definitions of Impactful. Instead of 5 being our limit, we'll train over use multiples of five.\n",
    "\n",
    "## Retraining our model using different definitions of 'Impactful'"
   ]
  },
  {
   "cell_type": "code",
   "execution_count": 52,
   "id": "7b32cf25",
   "metadata": {},
   "outputs": [],
   "source": [
    "#First, we define a new function\n",
    "\n",
    "def is_impactful_new(count, limit):\n",
    "    if count >= limit:\n",
    "        return 1\n",
    "    else:\n",
    "        return 0"
   ]
  },
  {
   "cell_type": "code",
   "execution_count": 53,
   "id": "6248d27c",
   "metadata": {},
   "outputs": [],
   "source": [
    "new_limits = [5, 10, 15, 20, 25, 30]\n",
    "confusion_matrixes = []\n",
    "classification_reports = []"
   ]
  },
  {
   "cell_type": "code",
   "execution_count": 54,
   "id": "adfe7221",
   "metadata": {},
   "outputs": [],
   "source": [
    "for i in new_limits:\n",
    "    \n",
    "    #First we redefine what impactful means\n",
    "    reviews_with_titles['Impactful'] = reviews_with_titles['Positive Feedback Count'].apply(lambda x: is_impactful_new(x, i))\n",
    "    \n",
    "    #Now we rebalance our data\n",
    "    \n",
    "    #We count how many reviews are impactful so we can balance our data\n",
    "    new_sample_size = reviews_with_titles['Impactful'].value_counts()[1]\n",
    "    \n",
    "    #We take our sample of unimpactful reviews\n",
    "    unimpactful_sample = reviews_with_titles[reviews_with_titles['Impactful'] == 0].sample(n = new_sample_size, axis = 0)\n",
    "    \n",
    "    #We take all impactful reviews\n",
    "    impactful_sample = reviews_with_titles[reviews_with_titles['Impactful'] == 1]\n",
    "    \n",
    "    #We create and shuffle our new data set\n",
    "    reviews_with_titles_balanced = pd.concat([unimpactful_sample, impactful_sample])\n",
    "    reviews_with_titles_balanced = reviews_with_titles_balanced.sample(frac = 1, axis = 0)\n",
    "\n",
    "    #We begin training again\n",
    "    X = reviews_with_titles_balanced['Title']\n",
    "    y = reviews_with_titles_balanced['Impactful']\n",
    "    title_train, title_test, impact_train, impact_test = train_test_split(X, y, test_size = 0.20)\n",
    "    \n",
    "    pipeline = Pipeline([\n",
    "        ('bow', CountVectorizer(analyzer = text_cleaning)),\n",
    "        ('tfidf', TfidfTransformer()),\n",
    "        ('classifier', MultinomialNB())\n",
    "    ])\n",
    "\n",
    "    pipeline.fit(title_train, impact_train)\n",
    "    \n",
    "    predictions = pipeline.predict(title_test)\n",
    "    \n",
    "    confusion_matrixes.append(confusion_matrix(impact_test, predictions))\n",
    "    \n",
    "    classification_reports.append(classification_report(impact_test, predictions))"
   ]
  },
  {
   "cell_type": "code",
   "execution_count": 55,
   "id": "3156a64f",
   "metadata": {},
   "outputs": [
    {
     "name": "stdout",
     "output_type": "stream",
     "text": [
      "Impactful defined as PFC >=  5\n",
      "[[379 294]\n",
      " [270 356]]\n",
      "\n",
      "\n",
      "Impactful defined as PFC >=  10\n",
      "[[188  88]\n",
      " [153 124]]\n",
      "\n",
      "\n",
      "Impactful defined as PFC >=  15\n",
      "[[87 50]\n",
      " [61 80]]\n",
      "\n",
      "\n",
      "Impactful defined as PFC >=  20\n",
      "[[47 24]\n",
      " [38 41]]\n",
      "\n",
      "\n",
      "Impactful defined as PFC >=  25\n",
      "[[36 11]\n",
      " [37 14]]\n",
      "\n",
      "\n",
      "Impactful defined as PFC >=  30\n",
      "[[14 20]\n",
      " [12 16]]\n",
      "\n",
      "\n"
     ]
    }
   ],
   "source": [
    "for i in range(len(confusion_matrixes)):\n",
    "    print('Impactful defined as PFC >= ', new_limits[i])\n",
    "    print(confusion_matrixes[i])\n",
    "    print('\\n')"
   ]
  },
  {
   "cell_type": "code",
   "execution_count": 56,
   "id": "44c2d333",
   "metadata": {},
   "outputs": [
    {
     "name": "stdout",
     "output_type": "stream",
     "text": [
      "Impactful defined as PFC >=  5\n",
      "              precision    recall  f1-score   support\n",
      "\n",
      "           0       0.58      0.56      0.57       673\n",
      "           1       0.55      0.57      0.56       626\n",
      "\n",
      "    accuracy                           0.57      1299\n",
      "   macro avg       0.57      0.57      0.57      1299\n",
      "weighted avg       0.57      0.57      0.57      1299\n",
      "\n",
      "\n",
      "\n",
      "Impactful defined as PFC >=  10\n",
      "              precision    recall  f1-score   support\n",
      "\n",
      "           0       0.55      0.68      0.61       276\n",
      "           1       0.58      0.45      0.51       277\n",
      "\n",
      "    accuracy                           0.56       553\n",
      "   macro avg       0.57      0.56      0.56       553\n",
      "weighted avg       0.57      0.56      0.56       553\n",
      "\n",
      "\n",
      "\n",
      "Impactful defined as PFC >=  15\n",
      "              precision    recall  f1-score   support\n",
      "\n",
      "           0       0.59      0.64      0.61       137\n",
      "           1       0.62      0.57      0.59       141\n",
      "\n",
      "    accuracy                           0.60       278\n",
      "   macro avg       0.60      0.60      0.60       278\n",
      "weighted avg       0.60      0.60      0.60       278\n",
      "\n",
      "\n",
      "\n",
      "Impactful defined as PFC >=  20\n",
      "              precision    recall  f1-score   support\n",
      "\n",
      "           0       0.55      0.66      0.60        71\n",
      "           1       0.63      0.52      0.57        79\n",
      "\n",
      "    accuracy                           0.59       150\n",
      "   macro avg       0.59      0.59      0.59       150\n",
      "weighted avg       0.59      0.59      0.59       150\n",
      "\n",
      "\n",
      "\n",
      "Impactful defined as PFC >=  25\n",
      "              precision    recall  f1-score   support\n",
      "\n",
      "           0       0.49      0.77      0.60        47\n",
      "           1       0.56      0.27      0.37        51\n",
      "\n",
      "    accuracy                           0.51        98\n",
      "   macro avg       0.53      0.52      0.48        98\n",
      "weighted avg       0.53      0.51      0.48        98\n",
      "\n",
      "\n",
      "\n",
      "Impactful defined as PFC >=  30\n",
      "              precision    recall  f1-score   support\n",
      "\n",
      "           0       0.54      0.41      0.47        34\n",
      "           1       0.44      0.57      0.50        28\n",
      "\n",
      "    accuracy                           0.48        62\n",
      "   macro avg       0.49      0.49      0.48        62\n",
      "weighted avg       0.50      0.48      0.48        62\n",
      "\n",
      "\n",
      "\n"
     ]
    }
   ],
   "source": [
    "for i in range(len(classification_reports)):\n",
    "    print('Impactful defined as PFC >= ', new_limits[i])\n",
    "    print(classification_reports[i])\n",
    "    print('\\n')"
   ]
  },
  {
   "cell_type": "markdown",
   "id": "318b3dc6",
   "metadata": {},
   "source": [
    "So, again, it seems like changing our definition of Impactful doesn't really have an effect on the accuracy of our model. If anything, it makes it worse because by increasing the limit where we differentiate between impactful and unimpactful decreases our sample size on both counts and we have less information to train and evaluate on. Again, to be able to do this, we would need more information on the power of a review to be able to create a better model. At least if we're training only on the title. <br>\n",
    "\n",
    "Let's move on to our next model.\n",
    "\n",
    "# Model: Predicting if an Item is Recommended Based on Title\n",
    "\n",
    "This is a less interesting variable to predict because people are forced to chose whether they recommend an item or not when they write a review on the first place, so we'll always know that from a review regardless. That doesn't mean that no value can be extracted from it, however. For example, if our model predicts that a review will recommend the item but gets it wrong, then that review will be an interesting read because it speaks positively of the item but ends up not recommending it. Why would someone do that? Can we learn something from those reviews? <br>\n",
    "\n",
    "Like with our previous model, let's begin with balancing our data:"
   ]
  },
  {
   "cell_type": "code",
   "execution_count": 57,
   "id": "3000d632",
   "metadata": {},
   "outputs": [
    {
     "data": {
      "text/plain": [
       "1    16088\n",
       "0     3575\n",
       "Name: Recommended IND, dtype: int64"
      ]
     },
     "execution_count": 57,
     "metadata": {},
     "output_type": "execute_result"
    }
   ],
   "source": [
    "reviews_with_titles['Recommended IND'].value_counts()"
   ]
  },
  {
   "cell_type": "code",
   "execution_count": 58,
   "id": "884f7d20",
   "metadata": {},
   "outputs": [],
   "source": [
    "not_recommended_sample = reviews_with_titles[reviews_with_titles['Recommended IND'] == 0]\n",
    "recommended_sample = reviews_with_titles[reviews_with_titles['Recommended IND'] == 1].sample(n = 3500, axis = 0)\n",
    "reviews_with_titles_balanced = pd.concat([recommended_sample, not_recommended_sample]).sample(frac = 1)"
   ]
  },
  {
   "cell_type": "code",
   "execution_count": 59,
   "id": "8f2f5dbd",
   "metadata": {},
   "outputs": [],
   "source": [
    "X = reviews_with_titles_balanced['Title']\n",
    "y = reviews_with_titles_balanced['Recommended IND']\n",
    "title_train, title_test, recommend_train, recommend_test = train_test_split(X, y, test_size = 0.20)"
   ]
  },
  {
   "cell_type": "code",
   "execution_count": 60,
   "id": "5ccf1119",
   "metadata": {},
   "outputs": [],
   "source": [
    "pipeline = Pipeline([\n",
    "    ('bow', CountVectorizer(analyzer = text_cleaning)),\n",
    "    ('tfidf', TfidfTransformer()),\n",
    "    ('classifier', MultinomialNB())\n",
    "])"
   ]
  },
  {
   "cell_type": "code",
   "execution_count": 61,
   "id": "4a4ada1b",
   "metadata": {},
   "outputs": [
    {
     "data": {
      "text/plain": [
       "Pipeline(steps=[('bow',\n",
       "                 CountVectorizer(analyzer=<function text_cleaning at 0x7fc3a15e8a60>)),\n",
       "                ('tfidf', TfidfTransformer()),\n",
       "                ('classifier', MultinomialNB())])"
      ]
     },
     "execution_count": 61,
     "metadata": {},
     "output_type": "execute_result"
    }
   ],
   "source": [
    "pipeline.fit(title_train, recommend_train)"
   ]
  },
  {
   "cell_type": "code",
   "execution_count": 62,
   "id": "54490f96",
   "metadata": {},
   "outputs": [],
   "source": [
    "predictions = pipeline.predict(title_test)"
   ]
  },
  {
   "cell_type": "code",
   "execution_count": 63,
   "id": "5b64a314",
   "metadata": {},
   "outputs": [
    {
     "name": "stdout",
     "output_type": "stream",
     "text": [
      "[[575 119]\n",
      " [139 582]]\n"
     ]
    }
   ],
   "source": [
    "print(confusion_matrix(recommend_test, predictions))"
   ]
  },
  {
   "cell_type": "code",
   "execution_count": 64,
   "id": "ac898e7c",
   "metadata": {},
   "outputs": [
    {
     "name": "stdout",
     "output_type": "stream",
     "text": [
      "              precision    recall  f1-score   support\n",
      "\n",
      "           0       0.81      0.83      0.82       694\n",
      "           1       0.83      0.81      0.82       721\n",
      "\n",
      "    accuracy                           0.82      1415\n",
      "   macro avg       0.82      0.82      0.82      1415\n",
      "weighted avg       0.82      0.82      0.82      1415\n",
      "\n"
     ]
    }
   ],
   "source": [
    "print(classification_report(recommend_test, predictions))"
   ]
  },
  {
   "cell_type": "markdown",
   "id": "d6ab1fac",
   "metadata": {},
   "source": [
    "An accuracy between 75% and 85% is not that bad. Again, we might be able to find some insight in the reviews that were predicted as false positives and false negatives. Before we do that, however, let's try to retrain our model using a different classifier than Naive Bayes and see if we can get better results."
   ]
  },
  {
   "cell_type": "markdown",
   "id": "8909de0e",
   "metadata": {},
   "source": [
    "## Retraining our model using a Linear Support Vector Machine"
   ]
  },
  {
   "cell_type": "code",
   "execution_count": 65,
   "id": "fe404848",
   "metadata": {},
   "outputs": [],
   "source": [
    "not_recommended_sample = reviews_with_titles[reviews_with_titles['Recommended IND'] == 0]\n",
    "recommended_sample = reviews_with_titles[reviews_with_titles['Recommended IND'] == 1].sample(n = 2200, axis = 0)\n",
    "reviews_with_titles_balanced = pd.concat([recommended_sample, not_recommended_sample]).sample(frac = 1)"
   ]
  },
  {
   "cell_type": "code",
   "execution_count": 66,
   "id": "9a6ccd89",
   "metadata": {},
   "outputs": [],
   "source": [
    "X = reviews_with_titles_balanced['Title']\n",
    "y = reviews_with_titles_balanced['Recommended IND']\n",
    "title_train, title_test, recommend_train, recommend_test = train_test_split(X, y, test_size = 0.20)"
   ]
  },
  {
   "cell_type": "code",
   "execution_count": 67,
   "id": "8ca39981",
   "metadata": {},
   "outputs": [],
   "source": [
    "from sklearn.linear_model import SGDClassifier\n",
    "\n",
    "pipeline = Pipeline([\n",
    "    ('bow', CountVectorizer(analyzer = text_cleaning)),\n",
    "    ('tfidf', TfidfTransformer()),\n",
    "    ('classifier', SGDClassifier()),\n",
    "])"
   ]
  },
  {
   "cell_type": "code",
   "execution_count": 68,
   "id": "577f7a02",
   "metadata": {},
   "outputs": [
    {
     "data": {
      "text/plain": [
       "Pipeline(steps=[('bow',\n",
       "                 CountVectorizer(analyzer=<function text_cleaning at 0x7fc3a15e8a60>)),\n",
       "                ('tfidf', TfidfTransformer()),\n",
       "                ('classifier', SGDClassifier())])"
      ]
     },
     "execution_count": 68,
     "metadata": {},
     "output_type": "execute_result"
    }
   ],
   "source": [
    "pipeline.fit(title_train, recommend_train)"
   ]
  },
  {
   "cell_type": "code",
   "execution_count": 69,
   "id": "ef6b2c06",
   "metadata": {},
   "outputs": [],
   "source": [
    "predictions_svm = pipeline.predict(title_test)"
   ]
  },
  {
   "cell_type": "code",
   "execution_count": 70,
   "id": "c5ad0c24",
   "metadata": {},
   "outputs": [
    {
     "name": "stdout",
     "output_type": "stream",
     "text": [
      "[[630  97]\n",
      " [119 309]]\n"
     ]
    }
   ],
   "source": [
    "print(confusion_matrix(recommend_test, predictions_svm))"
   ]
  },
  {
   "cell_type": "code",
   "execution_count": 71,
   "id": "52cd747f",
   "metadata": {},
   "outputs": [
    {
     "name": "stdout",
     "output_type": "stream",
     "text": [
      "              precision    recall  f1-score   support\n",
      "\n",
      "           0       0.84      0.87      0.85       727\n",
      "           1       0.76      0.72      0.74       428\n",
      "\n",
      "    accuracy                           0.81      1155\n",
      "   macro avg       0.80      0.79      0.80      1155\n",
      "weighted avg       0.81      0.81      0.81      1155\n",
      "\n"
     ]
    }
   ],
   "source": [
    "print(classification_report(recommend_test, predictions_svm))"
   ]
  },
  {
   "cell_type": "markdown",
   "id": "60683caf",
   "metadata": {},
   "source": [
    "We can see that, in reality, there's basically no difference between these classifiers. <br>\n",
    "\n",
    "For now, we'll work with this model. <br>\n",
    "\n",
    "So, we will retrieve the titles that were mispredicted and try to see if there is a pattern there."
   ]
  },
  {
   "cell_type": "code",
   "execution_count": 72,
   "id": "14f1ce3c",
   "metadata": {},
   "outputs": [],
   "source": [
    "#First we generate a boolean series that indicate with a True the predictions it got wrong\n",
    "false_predictions = predictions_svm != recommend_test"
   ]
  },
  {
   "cell_type": "code",
   "execution_count": 73,
   "id": "e0b4b0d5",
   "metadata": {},
   "outputs": [
    {
     "name": "stdout",
     "output_type": "stream",
     "text": [
      "216\n"
     ]
    }
   ],
   "source": [
    "#Now we create a dataframe with only these wrong predictions\n",
    "false_prediction_dataframe = reviews_with_titles_balanced.loc[recommend_test.index][false_predictions]\n",
    "print(len(false_prediction_dataframe))"
   ]
  },
  {
   "cell_type": "code",
   "execution_count": 74,
   "id": "f144fb29",
   "metadata": {},
   "outputs": [],
   "source": [
    "#Now we will gather every single word in these titles in a list and them count them\n",
    "all_title_words = []\n",
    "\n",
    "for i in range(len(false_prediction_dataframe['Title'])):\n",
    "    for word in false_prediction_dataframe['Title'].iloc[i].lower().split():\n",
    "        all_title_words.append(word)"
   ]
  },
  {
   "cell_type": "code",
   "execution_count": 75,
   "id": "ec3aa9a1",
   "metadata": {},
   "outputs": [
    {
     "name": "stdout",
     "output_type": "stream",
     "text": [
      "Most common words in our mispredicted titles\n",
      "but          44\n",
      "not          26\n",
      "for          19\n",
      "a            18\n",
      "cute         17\n",
      "great        16\n",
      "dress        16\n",
      "this         15\n",
      "beautiful    15\n",
      "the          13\n",
      "dtype: int64\n"
     ]
    }
   ],
   "source": [
    "print('Most common words in our mispredicted titles')\n",
    "print(pd.Series(all_title_words).value_counts().head(10))"
   ]
  },
  {
   "cell_type": "markdown",
   "id": "e94fbc1a",
   "metadata": {},
   "source": [
    "Some words that stick out in this list are the two common stopwords 'but' and 'not'. Let's take a look at the titles that contain these strings:"
   ]
  },
  {
   "cell_type": "code",
   "execution_count": 76,
   "id": "6629c04e",
   "metadata": {},
   "outputs": [
    {
     "name": "stdout",
     "output_type": "stream",
     "text": [
      "Titles with the word 'but' in them: \n",
      "\n",
      "Nice t, but not super soft\n",
      "Cute but wide\n",
      "Gorgeous style but very very itchy\n",
      "Cute but not right for me\n",
      "Cute but runs small!\n",
      "Adorable but wide\n",
      "Beautiful but fit awkwardly\n",
      "Beautiful but lots of material\n",
      "Pretty but runs big!!\n",
      "Beautiful dress but very large\n",
      "\n",
      "\n",
      "Titles with the word 'not' in them: \n",
      "\n",
      "Nice t, but not super soft\n",
      "Not for large chests\n",
      "Cute but not right for me\n",
      "This is not red!\n",
      "Pretty, not flattering\n",
      "Not a rich style...\n",
      "Very nice, but it's not for tall girls?\n",
      "Not black\n",
      "Cute shirt, but not cute on my figure\n",
      "Not for the large at bust\n"
     ]
    }
   ],
   "source": [
    "counter = 0\n",
    "\n",
    "print(\"Titles with the word 'but' in them: \\n\")\n",
    "for i in range(len(false_prediction_dataframe['Title'])):\n",
    "    if 'but' in false_prediction_dataframe['Title'].iloc[i].lower().split():\n",
    "        counter += 1\n",
    "        print(false_prediction_dataframe['Title'].iloc[i])\n",
    "    if counter == 10:\n",
    "        break\n",
    "        \n",
    "\n",
    "counter = 0\n",
    "\n",
    "print(\"\\n\\nTitles with the word 'not' in them: \\n\")\n",
    "for i in range(len(false_prediction_dataframe['Title'])):\n",
    "    if 'not' in false_prediction_dataframe['Title'].iloc[i].lower().split():\n",
    "        print(false_prediction_dataframe['Title'].iloc[i])\n",
    "        counter += 1\n",
    "    if counter == 10:\n",
    "        break"
   ]
  },
  {
   "cell_type": "markdown",
   "id": "519a76f3",
   "metadata": {},
   "source": [
    "Reading these titles it pretty clear that most of the buyers have conflicted feelings about their purchase but, even if it's just a few words in the title we can begin to see the potential application of this model as a filter for reviews with constructive criticism <br>\n",
    "\n",
    "A lot of these titles comment on the nature of the item, making references to the cut, the colors, the size, the material or whatever else. All of this information is valuable to the retailer as they can see what potential issues are turning customers away. The retailer can then use this information to gain insight as to how the can improve the quality of their products or to make a more in-depth user experience on their website by adding more information about the item to avoid user's regretting their purchase because it doesn't fit or it isn't the cut they were expecting."
   ]
  },
  {
   "cell_type": "markdown",
   "id": "58cd816f",
   "metadata": {},
   "source": [
    "Ahead is more of the same; training forecasting models to predict if reviews will be impactul or if they will recommend the item they purchased or not using the same metrics as the models we just trained but using the actual review text and not the title. The conclusions will largely be the same as the ones you just read with a couple of details to make note of. "
   ]
  },
  {
   "cell_type": "markdown",
   "id": "29f5054f",
   "metadata": {},
   "source": [
    "# Model: Predicting Impactfulness Based on Review Text"
   ]
  },
  {
   "cell_type": "code",
   "execution_count": 77,
   "id": "d38e939b",
   "metadata": {},
   "outputs": [],
   "source": [
    "reviews_with_text = reviews_df.drop(reviews_df[reviews_df['Review Length'] == 0].index)"
   ]
  },
  {
   "cell_type": "code",
   "execution_count": 78,
   "id": "7d55a3ea",
   "metadata": {},
   "outputs": [
    {
     "data": {
      "text/plain": [
       "0    18910\n",
       "1     3718\n",
       "Name: Impactful, dtype: int64"
      ]
     },
     "execution_count": 78,
     "metadata": {},
     "output_type": "execute_result"
    }
   ],
   "source": [
    "reviews_with_text['Impactful'].value_counts()"
   ]
  },
  {
   "cell_type": "code",
   "execution_count": 79,
   "id": "0c75fbaa",
   "metadata": {},
   "outputs": [],
   "source": [
    "#We take a random sample of 3200 rows of unimpactful reviews\n",
    "unimpactful_sample = reviews_with_text[reviews_with_text['Impactful'] == 0].sample(n = 3700, axis = 0)\n",
    "\n",
    "#Now we take every single impactful review\n",
    "impactful_sample = reviews_with_text[reviews_with_text['Impactful'] == 1]\n",
    "\n",
    "#We concatenate both samples on a new dataframe\n",
    "reviews_with_text_balanced = pd.concat([unimpactful_sample, impactful_sample])\n",
    "\n",
    "#We shuffle our new dataframe\n",
    "reviews_with_text_balanced = reviews_with_text_balanced.sample(frac = 1, axis = 0)"
   ]
  },
  {
   "cell_type": "code",
   "execution_count": 80,
   "id": "247e91f4",
   "metadata": {},
   "outputs": [],
   "source": [
    "X = reviews_with_text_balanced['Review Text']\n",
    "y = reviews_with_text_balanced['Impactful']\n",
    "text_train, text_test, impact_train, impact_test = train_test_split(X, y, test_size = 0.20)"
   ]
  },
  {
   "cell_type": "code",
   "execution_count": 81,
   "id": "41db2702",
   "metadata": {},
   "outputs": [],
   "source": [
    "pipeline = Pipeline([\n",
    "    ('bow', CountVectorizer(analyzer = text_cleaning)),\n",
    "    ('tfidf', TfidfTransformer()),\n",
    "    ('classifier', SGDClassifier())\n",
    "])"
   ]
  },
  {
   "cell_type": "code",
   "execution_count": 82,
   "id": "65dd8120",
   "metadata": {},
   "outputs": [
    {
     "data": {
      "text/plain": [
       "Pipeline(steps=[('bow',\n",
       "                 CountVectorizer(analyzer=<function text_cleaning at 0x7fc3a15e8a60>)),\n",
       "                ('tfidf', TfidfTransformer()),\n",
       "                ('classifier', SGDClassifier())])"
      ]
     },
     "execution_count": 82,
     "metadata": {},
     "output_type": "execute_result"
    }
   ],
   "source": [
    "pipeline.fit(text_train, impact_train)"
   ]
  },
  {
   "cell_type": "code",
   "execution_count": 83,
   "id": "1e946820",
   "metadata": {},
   "outputs": [],
   "source": [
    "predictions = pipeline.predict(text_test)"
   ]
  },
  {
   "cell_type": "code",
   "execution_count": 84,
   "id": "61b2bcf3",
   "metadata": {},
   "outputs": [
    {
     "name": "stdout",
     "output_type": "stream",
     "text": [
      "[[434 319]\n",
      " [309 422]]\n"
     ]
    }
   ],
   "source": [
    "print(confusion_matrix(impact_test, predictions))"
   ]
  },
  {
   "cell_type": "code",
   "execution_count": 85,
   "id": "d4ee4275",
   "metadata": {},
   "outputs": [
    {
     "name": "stdout",
     "output_type": "stream",
     "text": [
      "              precision    recall  f1-score   support\n",
      "\n",
      "           0       0.58      0.58      0.58       753\n",
      "           1       0.57      0.58      0.57       731\n",
      "\n",
      "    accuracy                           0.58      1484\n",
      "   macro avg       0.58      0.58      0.58      1484\n",
      "weighted avg       0.58      0.58      0.58      1484\n",
      "\n"
     ]
    }
   ],
   "source": [
    "print(classification_report(impact_test, predictions))"
   ]
  },
  {
   "cell_type": "markdown",
   "id": "d35d2859",
   "metadata": {},
   "source": [
    "# Model: Predicting if an Item is Recommended Based on Review Text"
   ]
  },
  {
   "cell_type": "code",
   "execution_count": 86,
   "id": "2cf1ae39",
   "metadata": {},
   "outputs": [
    {
     "data": {
      "text/plain": [
       "1    18527\n",
       "0     4101\n",
       "Name: Recommended IND, dtype: int64"
      ]
     },
     "execution_count": 86,
     "metadata": {},
     "output_type": "execute_result"
    }
   ],
   "source": [
    "reviews_with_text['Recommended IND'].value_counts()"
   ]
  },
  {
   "cell_type": "code",
   "execution_count": 87,
   "id": "23342cbb",
   "metadata": {},
   "outputs": [],
   "source": [
    "not_recommended_sample = reviews_with_text[reviews_with_text['Recommended IND'] == 0]\n",
    "recommended_sample = reviews_with_text[reviews_with_text['Recommended IND'] == 1].sample(n = 4100, axis = 0)\n",
    "reviews_with_text_balanced = pd.concat([recommended_sample, not_recommended_sample]).sample(frac = 1)"
   ]
  },
  {
   "cell_type": "code",
   "execution_count": 88,
   "id": "a2f44e08",
   "metadata": {},
   "outputs": [],
   "source": [
    "X = reviews_with_text_balanced['Review Text']\n",
    "y = reviews_with_text_balanced['Recommended IND']\n",
    "text_train, text_test, recommend_train, recommend_test = train_test_split(X, y, test_size = 0.20)"
   ]
  },
  {
   "cell_type": "code",
   "execution_count": 89,
   "id": "024d5cd1",
   "metadata": {},
   "outputs": [],
   "source": [
    "pipeline = Pipeline([\n",
    "    ('bow', CountVectorizer(analyzer = text_cleaning)),\n",
    "    ('tfidf', TfidfTransformer()),\n",
    "    ('classifier', SGDClassifier())\n",
    "])"
   ]
  },
  {
   "cell_type": "code",
   "execution_count": 90,
   "id": "956f5725",
   "metadata": {},
   "outputs": [
    {
     "data": {
      "text/plain": [
       "Pipeline(steps=[('bow',\n",
       "                 CountVectorizer(analyzer=<function text_cleaning at 0x7fc3a15e8a60>)),\n",
       "                ('tfidf', TfidfTransformer()),\n",
       "                ('classifier', SGDClassifier())])"
      ]
     },
     "execution_count": 90,
     "metadata": {},
     "output_type": "execute_result"
    }
   ],
   "source": [
    "pipeline.fit(text_train, recommend_train)"
   ]
  },
  {
   "cell_type": "code",
   "execution_count": 91,
   "id": "604baa6e",
   "metadata": {},
   "outputs": [],
   "source": [
    "predictions_svm = pipeline.predict(text_test)"
   ]
  },
  {
   "cell_type": "code",
   "execution_count": 92,
   "id": "d266fb96",
   "metadata": {},
   "outputs": [
    {
     "name": "stdout",
     "output_type": "stream",
     "text": [
      "[[711 112]\n",
      " [142 676]]\n"
     ]
    }
   ],
   "source": [
    "print(confusion_matrix(recommend_test, predictions_svm))"
   ]
  },
  {
   "cell_type": "code",
   "execution_count": 93,
   "id": "27591d9b",
   "metadata": {},
   "outputs": [
    {
     "name": "stdout",
     "output_type": "stream",
     "text": [
      "              precision    recall  f1-score   support\n",
      "\n",
      "           0       0.83      0.86      0.85       823\n",
      "           1       0.86      0.83      0.84       818\n",
      "\n",
      "    accuracy                           0.85      1641\n",
      "   macro avg       0.85      0.85      0.85      1641\n",
      "weighted avg       0.85      0.85      0.85      1641\n",
      "\n"
     ]
    }
   ],
   "source": [
    "print(classification_report(recommend_test, predictions_svm))"
   ]
  },
  {
   "cell_type": "code",
   "execution_count": 94,
   "id": "f9fb3f56",
   "metadata": {},
   "outputs": [],
   "source": [
    "false_predictions = predictions_svm != recommend_test"
   ]
  },
  {
   "cell_type": "code",
   "execution_count": 95,
   "id": "42322b69",
   "metadata": {},
   "outputs": [
    {
     "name": "stdout",
     "output_type": "stream",
     "text": [
      "254\n"
     ]
    }
   ],
   "source": [
    "false_prediction_dataframe = reviews_with_text_balanced.loc[recommend_test.index][false_predictions]\n",
    "print(len(false_prediction_dataframe))"
   ]
  },
  {
   "cell_type": "code",
   "execution_count": 96,
   "id": "47fc4976",
   "metadata": {},
   "outputs": [],
   "source": [
    "#Now we will gather every single word in these reviews in a list and them count them\n",
    "all_text_words = []\n",
    "\n",
    "for i in range(len(false_prediction_dataframe['Review Text'])):\n",
    "    for word in false_prediction_dataframe['Review Text'].iloc[i].lower().split():\n",
    "        all_text_words.append(word)"
   ]
  },
  {
   "cell_type": "code",
   "execution_count": 97,
   "id": "2d4d69f2",
   "metadata": {},
   "outputs": [
    {
     "name": "stdout",
     "output_type": "stream",
     "text": [
      "Most common words in our mispredicted reviews\n",
      "the     995\n",
      "i       722\n",
      "and     574\n",
      "a       513\n",
      "it      466\n",
      "is      359\n",
      "this    306\n",
      "to      288\n",
      "in      243\n",
      "was     229\n",
      "dtype: int64\n"
     ]
    }
   ],
   "source": [
    "print('Most common words in our mispredicted reviews')\n",
    "print(pd.Series(all_text_words).value_counts().head(10))"
   ]
  },
  {
   "cell_type": "markdown",
   "id": "7f75eec0",
   "metadata": {},
   "source": [
    "As these are full-length pieces of writing rather than just titles, the word 'but' no longer makes it to the top 10 of our most common words. This makes sense not only because the words that do appear on the top 10 are all incredibly common stopwords, but because review texts are longer and can express negative or positive emotions in many more different ways rather than just *'PRO' but 'CON'*. <br>\n",
    "\n",
    "Because of this, we will be looking just at a small sample of reviews that were mispredicted, notice how most do in fact write concrete criticisms of the piece that would be useful to a retailer or a customer, and leave it at that."
   ]
  },
  {
   "cell_type": "code",
   "execution_count": 101,
   "id": "3e54772e",
   "metadata": {},
   "outputs": [
    {
     "name": "stdout",
     "output_type": "stream",
     "text": [
      "This top is very pretty, i ordered both xs p and xxs p not knowing (someone wrote the word boxy in the review) - i tried on the xxs p first, and that was fine. did the trick to not look too boxy. teh fabric is stretchy, and soft/comfortable, not scratchy lace. the lining is soft as well. color is ivory and the embroidery is nice and fiery colors. the sleeves are fairly flattering, even on bigger arms. arm hole was just right too, never know with fluttery sleeves. \r\n",
      "for reference i am 115 lbs, 30\n",
      "\n",
      "--------------\n",
      "\n",
      "I don't have anything like it in my closet, really excited to wear it\n",
      "\n",
      "--------------\n",
      "\n",
      "Just received and sorry to return. i am 5'9\" i wear a size 8 i ordered the m/l . it way really big and to wide\n",
      "\n",
      "--------------\n",
      "\n",
      "When i saw this online, i wondered why this dress cost so much. i have been keeping my eye on it for some time. loved what i saw, the design and colors and details at the neckline and waist along with pockets but was skeptical. i was waiting for a sale to take a dive and here are my thoughts when i got it:\n",
      "___________\n",
      "pros:\n",
      "- the colors you see online are exactly the same in person.\n",
      "- the jeweled neckline is lovely. it's one thing that drew me to it. this dress had a very sophisticated appeal wh\n",
      "\n",
      "--------------\n",
      "\n",
      "True to size and lovely dress, except the arm pit area is tight and pinches. had to return.\n",
      "\n",
      "--------------\n",
      "\n",
      "The flow and feel of the material is really nice, however, i think it runs large. i ordered a small, and i have exchanged it for an xs, which i am hoping fits a bit better. i wanted the pants to be a bit more fitted around the hips and flow from there.\n",
      "\n",
      "--------------\n",
      "\n",
      "When i tried these on in the store i was thrilled - they were comfy as yoga pants and  the fit was divine. i thought i had found the perfect jeans and i splurged on them for my birthday. after wearing just two times they are baggy and the knees are totally bagged out, saggy and faded.\r\n",
      "so disappointing - i want my $180 back!\n",
      "\n",
      "--------------\n",
      "\n",
      "These are super cute shorts - great pattern, pockets (yay!) and really nice fabric. but, they're just a little too short for me, run a little small, and the side zipper is something of a pain -- i don't know if it was a construction issue on the pair i received or a stupid user issue but it seemed as if the seam with the zipper was just off -- not really a side seam but more toward the back. plus, the zipper sticks on the waistband seam making it even more difficult to zip. i wish i had read the\n",
      "\n",
      "--------------\n",
      "\n",
      "I had hoped this bulky knit would be cuddly and soft, with suri (a type of alpaca) in the title. i don't know if the blend (45% polyamide, 25% royal baby alpaca, 20% fine merino) threw it, but had i felt this in store, i would never have even picked it up. unimpressed.\n",
      "\n",
      "--------------\n",
      "\n",
      "This sweater is really cute, great fit and unique style. unfortunately the ivory color was more yellow than i like. not the right shade for my skin tone.\n",
      "\n",
      "--------------\n",
      "\n"
     ]
    }
   ],
   "source": [
    "for i in range(10):\n",
    "    print(false_prediction_dataframe['Review Text'].iloc[i])\n",
    "    print('\\n--------------\\n')\n"
   ]
  }
 ],
 "metadata": {
  "kernelspec": {
   "display_name": "Python 3 (ipykernel)",
   "language": "python",
   "name": "python3"
  },
  "language_info": {
   "codemirror_mode": {
    "name": "ipython",
    "version": 3
   },
   "file_extension": ".py",
   "mimetype": "text/x-python",
   "name": "python",
   "nbconvert_exporter": "python",
   "pygments_lexer": "ipython3",
   "version": "3.7.3"
  }
 },
 "nbformat": 4,
 "nbformat_minor": 5
}
